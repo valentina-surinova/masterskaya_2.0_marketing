{
 "cells": [
  {
   "cell_type": "markdown",
   "metadata": {},
   "source": [
    "# Предсказание действий покупателя"
   ]
  },
  {
   "cell_type": "markdown",
   "metadata": {},
   "source": [
    "Интернет-магазин собирает историю покупателей, проводит рассылки предложений и\n",
    "планирует будущие продажи. Для оптимизации процессов надо выделить пользователей,\n",
    "которые готовы совершить покупку в ближайшее время.  \n",
    "\n",
    "*Цель*  \n",
    "Предсказать вероятность покупки в течение 90 дней  \n",
    "\n",
    "*Задачи*  \n",
    "- Изучить данные\n",
    "- Разработать полезные признаки\n",
    "- Создать модель для классификации пользователей\n",
    "- Улучшить модель и максимизировать метрику roc_auc\n",
    "- Выполнить тестирование"
   ]
  },
  {
   "cell_type": "markdown",
   "metadata": {},
   "source": [
    "# Описание данных\n",
    "Данные находятся в нескольких файлах: apparel-purchases, apparel-messages, full_campaign_daily_event, full_campaign_daily_event_channel\n",
    "\n",
    "`apparel-purchases`\n",
    "Данные о покупках клиентов по дням и по товарам. В каждой записи покупка\n",
    "определенного товара, его цена, количество штук.\n",
    "В таблице есть списки идентификаторов, к каким категориям относится товар. Часто\n",
    "это вложенные категории (например автотовары-аксессуары-освежители), но также может\n",
    "включать в начале списка маркер распродажи или маркер женщинам/мужчинам.\n",
    "Нумерация категорий сквозная для всех уровней, то есть 44 на второй позиции списка\n",
    "или на третьей – это одна и та же категория. Иногда дерево категорий обновляется, поэтому\n",
    "могут меняться вложенности, например ['4', '28', '44', '1594'] или ['4', '44', '1594']. Как\n",
    "обработать такие случаи – можете предлагать свои варианты решения.\n",
    "- client_id идентификатор клиента\n",
    "- quantity количество единиц товара\n",
    "- price цена товара\n",
    "- category_ids идентификаторы категорий\n",
    "- date дата покупки\n",
    "- message_id идентификатор сообщения из рассылки  \n",
    "\n",
    "`apparel-messages`\n",
    "Рассылки, которые были отправлены клиентам из таблицы покупок.\n",
    "- bulk_campaign_id идентификатор рассылки\n",
    "- client_id идентификатор клиента\n",
    "- message_id идентификатор сообщения\n",
    "- event действие с сообщением (отправлено, открыто, покупка…)\n",
    "- channel канал рассылки\n",
    "- date дата действия\n",
    "- created_at дата-время полностью\n",
    "  \n",
    "`apparel-target_binary`\n",
    "- client_id идентификатор клиента\n",
    "- target клиент совершил покупку в целевом периоде\n",
    "Общая база рассылок огромна, поэтому собрали для вас агрегированную по дням\n",
    "статистику по рассылкам. Если будете создавать на основе этой статистики дополнительные\n",
    "признаки, обратите внимание, что нельзя суммировать по колонкам nunique, потому что это\n",
    "уникальные клиенты в пределах дня, у вас нет данных, повторяются ли они в другие дни)  \n",
    "\n",
    "`full_campaign_daily_event`\n",
    "Агрегация общей базы рассылок по дням и типам событий\n",
    "- date дата\n",
    "- bulk_campaign_id идентификатор рассылки\n",
    "- count_event* общее количество каждого события event\n",
    "- nunique_event* количество уникальных client_id в каждом событии\n",
    "* в именах колонок найдете все типы событий event\n",
    "  \n",
    "`full_campaign_daily_event_channel`\n",
    "Агрегация по дням с учетом событий и каналов рассылки\n",
    "- date дата\n",
    "- bulk_campaign_id идентификатор рассылки\n",
    "- count_event*_channel* общее количество каждого события по каналам\n",
    "- nunique_event*_channel* количество уникальных client_id по событиям и каналам\n",
    "* в именах колонок есть все типы событий event и каналов рассылки channel"
   ]
  },
  {
   "cell_type": "code",
   "execution_count": 1,
   "metadata": {},
   "outputs": [],
   "source": [
    "!pip freeze > requirements.txt"
   ]
  },
  {
   "cell_type": "code",
   "execution_count": 2,
   "metadata": {},
   "outputs": [],
   "source": [
    "!pip install phik -q\n",
    "!pip install catboost -q\n",
    "\n",
    "from phik import resources\n",
    "from phik.report import plot_correlation_matrix\n",
    "import numpy as np\n",
    "import pandas as pd\n",
    "from scipy import stats as st\n",
    "import textwrap\n",
    "import time\n",
    "\n",
    "from imblearn.over_sampling import SMOTE\n",
    "from imblearn.pipeline import Pipeline  # Важно: используем Pipeline из imblearn\n",
    "\n",
    "from matplotlib import pyplot as plt\n",
    "from matplotlib import rcParams, rcParamsDefault\n",
    "import plotly.express as px\n",
    "import seaborn as sns\n",
    "import ast\n",
    "\n",
    "\n",
    "\n",
    "# загружаем классы для подготовки данных\n",
    "from sklearn.model_selection import train_test_split\n",
    "from sklearn.preprocessing import (OneHotEncoder,\n",
    "                                   OrdinalEncoder,\n",
    "                                   StandardScaler,\n",
    "                                   MinMaxScaler,\n",
    "                                   RobustScaler,\n",
    "                                   FunctionTransformer\n",
    "                                  )\n",
    "from sklearn.compose import ColumnTransformer\n",
    "from sklearn.model_selection import cross_val_score\n",
    "\n",
    "\n",
    "# загружаем класс для работы с пропусками\n",
    "from sklearn.impute import SimpleImputer\n",
    "\n",
    "\n",
    "\n",
    "# импортируем класс RandomizedSearchCV\n",
    "from sklearn.model_selection import RandomizedSearchCV\n",
    "\n",
    "\n",
    "# загружаем нужные модели\n",
    "\n",
    "from sklearn.neighbors import KNeighborsClassifier\n",
    "from sklearn.tree import (DecisionTreeClassifier,\n",
    "                          DecisionTreeRegressor)\n",
    "from sklearn.linear_model import LogisticRegression\n",
    "from catboost import CatBoostClassifier\n",
    "\n",
    "\n",
    "# загружаем функцию для работы с метриками\n",
    "from sklearn.metrics import (roc_auc_score,\n",
    "                             precision_score,\n",
    "                             recall_score,\n",
    "                             confusion_matrix,\n",
    "                             make_scorer,\n",
    "                             f1_score,\n",
    "                             average_precision_score,\n",
    "                             precision_recall_curve,\n",
    "                             classification_report\n",
    "                            )\n",
    "\n",
    "\n",
    "RANDOM_STATE = 77\n",
    "TEST_SIZE = 0.25\n",
    "\n",
    "\n",
    "# Подавляем FutureWarning, вызванный изменением поведения функции `mode`\n",
    "import warnings\n",
    "import scipy.stats\n",
    "warnings.filterwarnings(\"ignore\", category=FutureWarning, module=\"scipy.stats\")\n",
    "\n",
    "#чтобы не было красных предупреждений\n",
    "with warnings.catch_warnings():\n",
    "    warnings.simplefilter(\"ignore\", FutureWarning)"
   ]
  },
  {
   "cell_type": "markdown",
   "metadata": {},
   "source": [
    "## Загрузка данных"
   ]
  },
  {
   "cell_type": "code",
   "execution_count": 3,
   "metadata": {},
   "outputs": [
    {
     "name": "stdout",
     "output_type": "stream",
     "text": [
      "<class 'pandas.core.frame.DataFrame'>\n",
      "RangeIndex: 202208 entries, 0 to 202207\n",
      "Data columns (total 6 columns):\n",
      " #   Column        Non-Null Count   Dtype  \n",
      "---  ------        --------------   -----  \n",
      " 0   client_id     202208 non-null  int64  \n",
      " 1   quantity      202208 non-null  int64  \n",
      " 2   price         202208 non-null  float64\n",
      " 3   category_ids  202208 non-null  object \n",
      " 4   date          202208 non-null  object \n",
      " 5   message_id    202208 non-null  object \n",
      "dtypes: float64(1), int64(2), object(3)\n",
      "memory usage: 9.3+ MB\n"
     ]
    },
    {
     "data": {
      "text/html": [
       "<div>\n",
       "<style scoped>\n",
       "    .dataframe tbody tr th:only-of-type {\n",
       "        vertical-align: middle;\n",
       "    }\n",
       "\n",
       "    .dataframe tbody tr th {\n",
       "        vertical-align: top;\n",
       "    }\n",
       "\n",
       "    .dataframe thead th {\n",
       "        text-align: right;\n",
       "    }\n",
       "</style>\n",
       "<table border=\"1\" class=\"dataframe\">\n",
       "  <thead>\n",
       "    <tr style=\"text-align: right;\">\n",
       "      <th></th>\n",
       "      <th>client_id</th>\n",
       "      <th>quantity</th>\n",
       "      <th>price</th>\n",
       "      <th>category_ids</th>\n",
       "      <th>date</th>\n",
       "      <th>message_id</th>\n",
       "    </tr>\n",
       "  </thead>\n",
       "  <tbody>\n",
       "    <tr>\n",
       "      <th>0</th>\n",
       "      <td>1515915625468169594</td>\n",
       "      <td>1</td>\n",
       "      <td>1999.0</td>\n",
       "      <td>['4', '28', '57', '431']</td>\n",
       "      <td>2022-05-16</td>\n",
       "      <td>1515915625468169594-4301-627b661e9736d</td>\n",
       "    </tr>\n",
       "    <tr>\n",
       "      <th>1</th>\n",
       "      <td>1515915625468169594</td>\n",
       "      <td>1</td>\n",
       "      <td>2499.0</td>\n",
       "      <td>['4', '28', '57', '431']</td>\n",
       "      <td>2022-05-16</td>\n",
       "      <td>1515915625468169594-4301-627b661e9736d</td>\n",
       "    </tr>\n",
       "    <tr>\n",
       "      <th>2</th>\n",
       "      <td>1515915625471138230</td>\n",
       "      <td>1</td>\n",
       "      <td>6499.0</td>\n",
       "      <td>['4', '28', '57', '431']</td>\n",
       "      <td>2022-05-16</td>\n",
       "      <td>1515915625471138230-4437-6282242f27843</td>\n",
       "    </tr>\n",
       "    <tr>\n",
       "      <th>3</th>\n",
       "      <td>1515915625471138230</td>\n",
       "      <td>1</td>\n",
       "      <td>4999.0</td>\n",
       "      <td>['4', '28', '244', '432']</td>\n",
       "      <td>2022-05-16</td>\n",
       "      <td>1515915625471138230-4437-6282242f27843</td>\n",
       "    </tr>\n",
       "    <tr>\n",
       "      <th>4</th>\n",
       "      <td>1515915625471138230</td>\n",
       "      <td>1</td>\n",
       "      <td>4999.0</td>\n",
       "      <td>['4', '28', '49', '413']</td>\n",
       "      <td>2022-05-16</td>\n",
       "      <td>1515915625471138230-4437-6282242f27843</td>\n",
       "    </tr>\n",
       "  </tbody>\n",
       "</table>\n",
       "</div>"
      ],
      "text/plain": [
       "             client_id  quantity   price               category_ids  \\\n",
       "0  1515915625468169594         1  1999.0   ['4', '28', '57', '431']   \n",
       "1  1515915625468169594         1  2499.0   ['4', '28', '57', '431']   \n",
       "2  1515915625471138230         1  6499.0   ['4', '28', '57', '431']   \n",
       "3  1515915625471138230         1  4999.0  ['4', '28', '244', '432']   \n",
       "4  1515915625471138230         1  4999.0   ['4', '28', '49', '413']   \n",
       "\n",
       "         date                              message_id  \n",
       "0  2022-05-16  1515915625468169594-4301-627b661e9736d  \n",
       "1  2022-05-16  1515915625468169594-4301-627b661e9736d  \n",
       "2  2022-05-16  1515915625471138230-4437-6282242f27843  \n",
       "3  2022-05-16  1515915625471138230-4437-6282242f27843  \n",
       "4  2022-05-16  1515915625471138230-4437-6282242f27843  "
      ]
     },
     "execution_count": 3,
     "metadata": {},
     "output_type": "execute_result"
    }
   ],
   "source": [
    "#загружаем данные с покупками клиентов\n",
    "try:\n",
    "    purchases = pd.read_csv('C:/Users/PC/Documents/Practicum/DataSceince/masterskaya_2.0/datasets/apparel-purchases.csv')\n",
    "except:\n",
    "    purchases = pd.read_csv('/datasets/apparel-purchases.csv')\n",
    "#проверяем, что данные в таблицах соответствуют описанию\n",
    "purchases.info()\n",
    "purchases.head(5)"
   ]
  },
  {
   "cell_type": "code",
   "execution_count": 4,
   "metadata": {},
   "outputs": [
    {
     "name": "stdout",
     "output_type": "stream",
     "text": [
      "<class 'pandas.core.frame.DataFrame'>\n",
      "RangeIndex: 12739798 entries, 0 to 12739797\n",
      "Data columns (total 7 columns):\n",
      " #   Column            Dtype \n",
      "---  ------            ----- \n",
      " 0   bulk_campaign_id  int64 \n",
      " 1   client_id         int64 \n",
      " 2   message_id        object\n",
      " 3   event             object\n",
      " 4   channel           object\n",
      " 5   date              object\n",
      " 6   created_at        object\n",
      "dtypes: int64(2), object(5)\n",
      "memory usage: 680.4+ MB\n"
     ]
    },
    {
     "data": {
      "text/html": [
       "<div>\n",
       "<style scoped>\n",
       "    .dataframe tbody tr th:only-of-type {\n",
       "        vertical-align: middle;\n",
       "    }\n",
       "\n",
       "    .dataframe tbody tr th {\n",
       "        vertical-align: top;\n",
       "    }\n",
       "\n",
       "    .dataframe thead th {\n",
       "        text-align: right;\n",
       "    }\n",
       "</style>\n",
       "<table border=\"1\" class=\"dataframe\">\n",
       "  <thead>\n",
       "    <tr style=\"text-align: right;\">\n",
       "      <th></th>\n",
       "      <th>bulk_campaign_id</th>\n",
       "      <th>client_id</th>\n",
       "      <th>message_id</th>\n",
       "      <th>event</th>\n",
       "      <th>channel</th>\n",
       "      <th>date</th>\n",
       "      <th>created_at</th>\n",
       "    </tr>\n",
       "  </thead>\n",
       "  <tbody>\n",
       "    <tr>\n",
       "      <th>0</th>\n",
       "      <td>4439</td>\n",
       "      <td>1515915625626736623</td>\n",
       "      <td>1515915625626736623-4439-6283415ac07ea</td>\n",
       "      <td>open</td>\n",
       "      <td>email</td>\n",
       "      <td>2022-05-19</td>\n",
       "      <td>2022-05-19 00:14:20</td>\n",
       "    </tr>\n",
       "    <tr>\n",
       "      <th>1</th>\n",
       "      <td>4439</td>\n",
       "      <td>1515915625490086521</td>\n",
       "      <td>1515915625490086521-4439-62834150016dd</td>\n",
       "      <td>open</td>\n",
       "      <td>email</td>\n",
       "      <td>2022-05-19</td>\n",
       "      <td>2022-05-19 00:39:34</td>\n",
       "    </tr>\n",
       "    <tr>\n",
       "      <th>2</th>\n",
       "      <td>4439</td>\n",
       "      <td>1515915625553578558</td>\n",
       "      <td>1515915625553578558-4439-6283415b36b4f</td>\n",
       "      <td>open</td>\n",
       "      <td>email</td>\n",
       "      <td>2022-05-19</td>\n",
       "      <td>2022-05-19 00:51:49</td>\n",
       "    </tr>\n",
       "    <tr>\n",
       "      <th>3</th>\n",
       "      <td>4439</td>\n",
       "      <td>1515915625553578558</td>\n",
       "      <td>1515915625553578558-4439-6283415b36b4f</td>\n",
       "      <td>click</td>\n",
       "      <td>email</td>\n",
       "      <td>2022-05-19</td>\n",
       "      <td>2022-05-19 00:52:20</td>\n",
       "    </tr>\n",
       "    <tr>\n",
       "      <th>4</th>\n",
       "      <td>4439</td>\n",
       "      <td>1515915625471518311</td>\n",
       "      <td>1515915625471518311-4439-628341570c133</td>\n",
       "      <td>open</td>\n",
       "      <td>email</td>\n",
       "      <td>2022-05-19</td>\n",
       "      <td>2022-05-19 00:56:52</td>\n",
       "    </tr>\n",
       "  </tbody>\n",
       "</table>\n",
       "</div>"
      ],
      "text/plain": [
       "   bulk_campaign_id            client_id  \\\n",
       "0              4439  1515915625626736623   \n",
       "1              4439  1515915625490086521   \n",
       "2              4439  1515915625553578558   \n",
       "3              4439  1515915625553578558   \n",
       "4              4439  1515915625471518311   \n",
       "\n",
       "                               message_id  event channel        date  \\\n",
       "0  1515915625626736623-4439-6283415ac07ea   open   email  2022-05-19   \n",
       "1  1515915625490086521-4439-62834150016dd   open   email  2022-05-19   \n",
       "2  1515915625553578558-4439-6283415b36b4f   open   email  2022-05-19   \n",
       "3  1515915625553578558-4439-6283415b36b4f  click   email  2022-05-19   \n",
       "4  1515915625471518311-4439-628341570c133   open   email  2022-05-19   \n",
       "\n",
       "            created_at  \n",
       "0  2022-05-19 00:14:20  \n",
       "1  2022-05-19 00:39:34  \n",
       "2  2022-05-19 00:51:49  \n",
       "3  2022-05-19 00:52:20  \n",
       "4  2022-05-19 00:56:52  "
      ]
     },
     "execution_count": 4,
     "metadata": {},
     "output_type": "execute_result"
    }
   ],
   "source": [
    "#загружаем данные с рассылками клиентам \n",
    "try:\n",
    "    messages = pd.read_csv('C:/Users/PC/Documents/Practicum/DataSceince/masterskaya_2.0/datasets/apparel-messages.csv')\n",
    "except:\n",
    "    messages = pd.read_csv('/datasets/apparel-messages.csv')\n",
    "#проверяем, что данные в таблицах соответствуют описанию\n",
    "messages.info()\n",
    "messages.head(5)"
   ]
  },
  {
   "cell_type": "code",
   "execution_count": 5,
   "metadata": {},
   "outputs": [
    {
     "name": "stdout",
     "output_type": "stream",
     "text": [
      "<class 'pandas.core.frame.DataFrame'>\n",
      "RangeIndex: 49849 entries, 0 to 49848\n",
      "Data columns (total 2 columns):\n",
      " #   Column     Non-Null Count  Dtype\n",
      "---  ------     --------------  -----\n",
      " 0   client_id  49849 non-null  int64\n",
      " 1   target     49849 non-null  int64\n",
      "dtypes: int64(2)\n",
      "memory usage: 779.0 KB\n"
     ]
    },
    {
     "data": {
      "text/html": [
       "<div>\n",
       "<style scoped>\n",
       "    .dataframe tbody tr th:only-of-type {\n",
       "        vertical-align: middle;\n",
       "    }\n",
       "\n",
       "    .dataframe tbody tr th {\n",
       "        vertical-align: top;\n",
       "    }\n",
       "\n",
       "    .dataframe thead th {\n",
       "        text-align: right;\n",
       "    }\n",
       "</style>\n",
       "<table border=\"1\" class=\"dataframe\">\n",
       "  <thead>\n",
       "    <tr style=\"text-align: right;\">\n",
       "      <th></th>\n",
       "      <th>client_id</th>\n",
       "      <th>target</th>\n",
       "    </tr>\n",
       "  </thead>\n",
       "  <tbody>\n",
       "    <tr>\n",
       "      <th>0</th>\n",
       "      <td>1515915625468060902</td>\n",
       "      <td>0</td>\n",
       "    </tr>\n",
       "    <tr>\n",
       "      <th>1</th>\n",
       "      <td>1515915625468061003</td>\n",
       "      <td>1</td>\n",
       "    </tr>\n",
       "    <tr>\n",
       "      <th>2</th>\n",
       "      <td>1515915625468061099</td>\n",
       "      <td>0</td>\n",
       "    </tr>\n",
       "    <tr>\n",
       "      <th>3</th>\n",
       "      <td>1515915625468061100</td>\n",
       "      <td>0</td>\n",
       "    </tr>\n",
       "    <tr>\n",
       "      <th>4</th>\n",
       "      <td>1515915625468061170</td>\n",
       "      <td>0</td>\n",
       "    </tr>\n",
       "  </tbody>\n",
       "</table>\n",
       "</div>"
      ],
      "text/plain": [
       "             client_id  target\n",
       "0  1515915625468060902       0\n",
       "1  1515915625468061003       1\n",
       "2  1515915625468061099       0\n",
       "3  1515915625468061100       0\n",
       "4  1515915625468061170       0"
      ]
     },
     "execution_count": 5,
     "metadata": {},
     "output_type": "execute_result"
    }
   ],
   "source": [
    "#загружаем данные с таргетом\n",
    "try:\n",
    "    apparel_target = pd.read_csv('C:/Users/PC/Documents/Practicum/DataSceince/masterskaya_2.0/datasets/apparel_target_binary.csv')\n",
    "except:\n",
    "    apparel_target = pd.read_csv('/datasets/apparel_target_binary.csv')\n",
    "#проверяем, что данные в таблицах соответствуют описанию\n",
    "apparel_target.info()\n",
    "apparel_target.head(5)"
   ]
  },
  {
   "cell_type": "code",
   "execution_count": 6,
   "metadata": {},
   "outputs": [
    {
     "name": "stdout",
     "output_type": "stream",
     "text": [
      "<class 'pandas.core.frame.DataFrame'>\n",
      "RangeIndex: 131072 entries, 0 to 131071\n",
      "Data columns (total 24 columns):\n",
      " #   Column               Non-Null Count   Dtype \n",
      "---  ------               --------------   ----- \n",
      " 0   date                 131072 non-null  object\n",
      " 1   bulk_campaign_id     131072 non-null  int64 \n",
      " 2   count_click          131072 non-null  int64 \n",
      " 3   count_complain       131072 non-null  int64 \n",
      " 4   count_hard_bounce    131072 non-null  int64 \n",
      " 5   count_open           131072 non-null  int64 \n",
      " 6   count_purchase       131072 non-null  int64 \n",
      " 7   count_send           131072 non-null  int64 \n",
      " 8   count_soft_bounce    131072 non-null  int64 \n",
      " 9   count_subscribe      131072 non-null  int64 \n",
      " 10  count_unsubscribe    131072 non-null  int64 \n",
      " 11  nunique_click        131072 non-null  int64 \n",
      " 12  nunique_complain     131072 non-null  int64 \n",
      " 13  nunique_hard_bounce  131072 non-null  int64 \n",
      " 14  nunique_open         131072 non-null  int64 \n",
      " 15  nunique_purchase     131072 non-null  int64 \n",
      " 16  nunique_send         131072 non-null  int64 \n",
      " 17  nunique_soft_bounce  131072 non-null  int64 \n",
      " 18  nunique_subscribe    131072 non-null  int64 \n",
      " 19  nunique_unsubscribe  131072 non-null  int64 \n",
      " 20  count_hbq_spam       131072 non-null  int64 \n",
      " 21  nunique_hbq_spam     131072 non-null  int64 \n",
      " 22  count_close          131072 non-null  int64 \n",
      " 23  nunique_close        131072 non-null  int64 \n",
      "dtypes: int64(23), object(1)\n",
      "memory usage: 24.0+ MB\n"
     ]
    },
    {
     "data": {
      "text/html": [
       "<div>\n",
       "<style scoped>\n",
       "    .dataframe tbody tr th:only-of-type {\n",
       "        vertical-align: middle;\n",
       "    }\n",
       "\n",
       "    .dataframe tbody tr th {\n",
       "        vertical-align: top;\n",
       "    }\n",
       "\n",
       "    .dataframe thead th {\n",
       "        text-align: right;\n",
       "    }\n",
       "</style>\n",
       "<table border=\"1\" class=\"dataframe\">\n",
       "  <thead>\n",
       "    <tr style=\"text-align: right;\">\n",
       "      <th></th>\n",
       "      <th>date</th>\n",
       "      <th>bulk_campaign_id</th>\n",
       "      <th>count_click</th>\n",
       "      <th>count_complain</th>\n",
       "      <th>count_hard_bounce</th>\n",
       "      <th>count_open</th>\n",
       "      <th>count_purchase</th>\n",
       "      <th>count_send</th>\n",
       "      <th>count_soft_bounce</th>\n",
       "      <th>count_subscribe</th>\n",
       "      <th>...</th>\n",
       "      <th>nunique_open</th>\n",
       "      <th>nunique_purchase</th>\n",
       "      <th>nunique_send</th>\n",
       "      <th>nunique_soft_bounce</th>\n",
       "      <th>nunique_subscribe</th>\n",
       "      <th>nunique_unsubscribe</th>\n",
       "      <th>count_hbq_spam</th>\n",
       "      <th>nunique_hbq_spam</th>\n",
       "      <th>count_close</th>\n",
       "      <th>nunique_close</th>\n",
       "    </tr>\n",
       "  </thead>\n",
       "  <tbody>\n",
       "    <tr>\n",
       "      <th>0</th>\n",
       "      <td>2022-05-19</td>\n",
       "      <td>563</td>\n",
       "      <td>0</td>\n",
       "      <td>0</td>\n",
       "      <td>0</td>\n",
       "      <td>4</td>\n",
       "      <td>0</td>\n",
       "      <td>0</td>\n",
       "      <td>0</td>\n",
       "      <td>0</td>\n",
       "      <td>...</td>\n",
       "      <td>4</td>\n",
       "      <td>0</td>\n",
       "      <td>0</td>\n",
       "      <td>0</td>\n",
       "      <td>0</td>\n",
       "      <td>0</td>\n",
       "      <td>0</td>\n",
       "      <td>0</td>\n",
       "      <td>0</td>\n",
       "      <td>0</td>\n",
       "    </tr>\n",
       "    <tr>\n",
       "      <th>1</th>\n",
       "      <td>2022-05-19</td>\n",
       "      <td>577</td>\n",
       "      <td>0</td>\n",
       "      <td>0</td>\n",
       "      <td>0</td>\n",
       "      <td>1</td>\n",
       "      <td>0</td>\n",
       "      <td>0</td>\n",
       "      <td>0</td>\n",
       "      <td>0</td>\n",
       "      <td>...</td>\n",
       "      <td>1</td>\n",
       "      <td>0</td>\n",
       "      <td>0</td>\n",
       "      <td>0</td>\n",
       "      <td>0</td>\n",
       "      <td>0</td>\n",
       "      <td>0</td>\n",
       "      <td>0</td>\n",
       "      <td>0</td>\n",
       "      <td>0</td>\n",
       "    </tr>\n",
       "    <tr>\n",
       "      <th>2</th>\n",
       "      <td>2022-05-19</td>\n",
       "      <td>622</td>\n",
       "      <td>0</td>\n",
       "      <td>0</td>\n",
       "      <td>0</td>\n",
       "      <td>2</td>\n",
       "      <td>0</td>\n",
       "      <td>0</td>\n",
       "      <td>0</td>\n",
       "      <td>0</td>\n",
       "      <td>...</td>\n",
       "      <td>2</td>\n",
       "      <td>0</td>\n",
       "      <td>0</td>\n",
       "      <td>0</td>\n",
       "      <td>0</td>\n",
       "      <td>0</td>\n",
       "      <td>0</td>\n",
       "      <td>0</td>\n",
       "      <td>0</td>\n",
       "      <td>0</td>\n",
       "    </tr>\n",
       "    <tr>\n",
       "      <th>3</th>\n",
       "      <td>2022-05-19</td>\n",
       "      <td>634</td>\n",
       "      <td>0</td>\n",
       "      <td>0</td>\n",
       "      <td>0</td>\n",
       "      <td>1</td>\n",
       "      <td>0</td>\n",
       "      <td>0</td>\n",
       "      <td>0</td>\n",
       "      <td>0</td>\n",
       "      <td>...</td>\n",
       "      <td>1</td>\n",
       "      <td>0</td>\n",
       "      <td>0</td>\n",
       "      <td>0</td>\n",
       "      <td>0</td>\n",
       "      <td>0</td>\n",
       "      <td>0</td>\n",
       "      <td>0</td>\n",
       "      <td>0</td>\n",
       "      <td>0</td>\n",
       "    </tr>\n",
       "    <tr>\n",
       "      <th>4</th>\n",
       "      <td>2022-05-19</td>\n",
       "      <td>676</td>\n",
       "      <td>0</td>\n",
       "      <td>0</td>\n",
       "      <td>0</td>\n",
       "      <td>1</td>\n",
       "      <td>0</td>\n",
       "      <td>0</td>\n",
       "      <td>0</td>\n",
       "      <td>0</td>\n",
       "      <td>...</td>\n",
       "      <td>1</td>\n",
       "      <td>0</td>\n",
       "      <td>0</td>\n",
       "      <td>0</td>\n",
       "      <td>0</td>\n",
       "      <td>0</td>\n",
       "      <td>0</td>\n",
       "      <td>0</td>\n",
       "      <td>0</td>\n",
       "      <td>0</td>\n",
       "    </tr>\n",
       "  </tbody>\n",
       "</table>\n",
       "<p>5 rows × 24 columns</p>\n",
       "</div>"
      ],
      "text/plain": [
       "         date  bulk_campaign_id  count_click  count_complain  \\\n",
       "0  2022-05-19               563            0               0   \n",
       "1  2022-05-19               577            0               0   \n",
       "2  2022-05-19               622            0               0   \n",
       "3  2022-05-19               634            0               0   \n",
       "4  2022-05-19               676            0               0   \n",
       "\n",
       "   count_hard_bounce  count_open  count_purchase  count_send  \\\n",
       "0                  0           4               0           0   \n",
       "1                  0           1               0           0   \n",
       "2                  0           2               0           0   \n",
       "3                  0           1               0           0   \n",
       "4                  0           1               0           0   \n",
       "\n",
       "   count_soft_bounce  count_subscribe  ...  nunique_open  nunique_purchase  \\\n",
       "0                  0                0  ...             4                 0   \n",
       "1                  0                0  ...             1                 0   \n",
       "2                  0                0  ...             2                 0   \n",
       "3                  0                0  ...             1                 0   \n",
       "4                  0                0  ...             1                 0   \n",
       "\n",
       "   nunique_send  nunique_soft_bounce  nunique_subscribe  nunique_unsubscribe  \\\n",
       "0             0                    0                  0                    0   \n",
       "1             0                    0                  0                    0   \n",
       "2             0                    0                  0                    0   \n",
       "3             0                    0                  0                    0   \n",
       "4             0                    0                  0                    0   \n",
       "\n",
       "   count_hbq_spam  nunique_hbq_spam  count_close  nunique_close  \n",
       "0               0                 0            0              0  \n",
       "1               0                 0            0              0  \n",
       "2               0                 0            0              0  \n",
       "3               0                 0            0              0  \n",
       "4               0                 0            0              0  \n",
       "\n",
       "[5 rows x 24 columns]"
      ]
     },
     "execution_count": 6,
     "metadata": {},
     "output_type": "execute_result"
    }
   ],
   "source": [
    "#загружаем данные \n",
    "try:\n",
    "    full_campaign_daily_event = pd.read_csv('C:/Users/PC/Documents/Practicum/DataSceince/masterskaya_2.0/datasets/full_campaign_daily_event.csv')\n",
    "except:\n",
    "    full_campaign_daily_event = pd.read_csv('/datasets/full_campaign_daily_event.csv')\n",
    "#проверяем, что данные в таблицах соответствуют описанию\n",
    "full_campaign_daily_event.info()\n",
    "full_campaign_daily_event.head(5)"
   ]
  },
  {
   "cell_type": "code",
   "execution_count": 7,
   "metadata": {},
   "outputs": [
    {
     "name": "stdout",
     "output_type": "stream",
     "text": [
      "<class 'pandas.core.frame.DataFrame'>\n",
      "RangeIndex: 131072 entries, 0 to 131071\n",
      "Data columns (total 36 columns):\n",
      " #   Column                           Non-Null Count   Dtype \n",
      "---  ------                           --------------   ----- \n",
      " 0   date                             131072 non-null  object\n",
      " 1   bulk_campaign_id                 131072 non-null  int64 \n",
      " 2   count_click_email                131072 non-null  int64 \n",
      " 3   count_click_mobile_push          131072 non-null  int64 \n",
      " 4   count_open_email                 131072 non-null  int64 \n",
      " 5   count_open_mobile_push           131072 non-null  int64 \n",
      " 6   count_purchase_email             131072 non-null  int64 \n",
      " 7   count_purchase_mobile_push       131072 non-null  int64 \n",
      " 8   count_soft_bounce_email          131072 non-null  int64 \n",
      " 9   count_subscribe_email            131072 non-null  int64 \n",
      " 10  count_unsubscribe_email          131072 non-null  int64 \n",
      " 11  nunique_click_email              131072 non-null  int64 \n",
      " 12  nunique_click_mobile_push        131072 non-null  int64 \n",
      " 13  nunique_open_email               131072 non-null  int64 \n",
      " 14  nunique_open_mobile_push         131072 non-null  int64 \n",
      " 15  nunique_purchase_email           131072 non-null  int64 \n",
      " 16  nunique_purchase_mobile_push     131072 non-null  int64 \n",
      " 17  nunique_soft_bounce_email        131072 non-null  int64 \n",
      " 18  nunique_subscribe_email          131072 non-null  int64 \n",
      " 19  nunique_unsubscribe_email        131072 non-null  int64 \n",
      " 20  count_hard_bounce_mobile_push    131072 non-null  int64 \n",
      " 21  count_send_mobile_push           131072 non-null  int64 \n",
      " 22  nunique_hard_bounce_mobile_push  131072 non-null  int64 \n",
      " 23  nunique_send_mobile_push         131072 non-null  int64 \n",
      " 24  count_hard_bounce_email          131072 non-null  int64 \n",
      " 25  count_hbq_spam_email             131072 non-null  int64 \n",
      " 26  count_send_email                 131072 non-null  int64 \n",
      " 27  nunique_hard_bounce_email        131072 non-null  int64 \n",
      " 28  nunique_hbq_spam_email           131072 non-null  int64 \n",
      " 29  nunique_send_email               131072 non-null  int64 \n",
      " 30  count_soft_bounce_mobile_push    131072 non-null  int64 \n",
      " 31  nunique_soft_bounce_mobile_push  131072 non-null  int64 \n",
      " 32  count_complain_email             131072 non-null  int64 \n",
      " 33  nunique_complain_email           131072 non-null  int64 \n",
      " 34  count_close_mobile_push          131072 non-null  int64 \n",
      " 35  nunique_close_mobile_push        131072 non-null  int64 \n",
      "dtypes: int64(35), object(1)\n",
      "memory usage: 36.0+ MB\n"
     ]
    }
   ],
   "source": [
    "#загружаем данные\n",
    "try:\n",
    "    full_campaign_daily_event_channel = pd.read_csv('C:/Users/PC/Documents/Practicum/DataSceince/masterskaya_2.0/datasets/full_campaign_daily_event_channel.csv')\n",
    "except:\n",
    "    full_campaign_daily_event_channel = pd.read_csv('/datasets/full_campaign_daily_event_channel.csv')\n",
    "#проверяем, что данные в таблицах соответствуют описанию\n",
    "full_campaign_daily_event_channel.head(5)\n",
    "full_campaign_daily_event_channel.info()"
   ]
  },
  {
   "cell_type": "markdown",
   "metadata": {},
   "source": [
    "## Предобработка данных"
   ]
  },
  {
   "cell_type": "markdown",
   "metadata": {},
   "source": [
    "### Переименование столбцов"
   ]
  },
  {
   "cell_type": "markdown",
   "metadata": {},
   "source": [
    "Переименование столбцов не требуется, так как стилистически все в порядке, и названия столбцов на английском, а также отражают суть."
   ]
  },
  {
   "cell_type": "markdown",
   "metadata": {},
   "source": [
    "### Приведние данных к верному типу данных"
   ]
  },
  {
   "cell_type": "markdown",
   "metadata": {},
   "source": [
    "Приведем даты к формату datetime, чтобы можно было их использовать для создания новых признаков."
   ]
  },
  {
   "cell_type": "code",
   "execution_count": 8,
   "metadata": {},
   "outputs": [],
   "source": [
    "purchases['date'] = pd.to_datetime(purchases['date'])\n",
    "messages['date'] = pd.to_datetime(messages['date'])\n",
    "messages['created_at'] = pd.to_datetime(messages['created_at'])\n",
    "full_campaign_daily_event['date'] = pd.to_datetime(full_campaign_daily_event['date'])\n",
    "full_campaign_daily_event_channel['date'] = pd.to_datetime(full_campaign_daily_event_channel['date'])"
   ]
  },
  {
   "cell_type": "code",
   "execution_count": 9,
   "metadata": {},
   "outputs": [
    {
     "name": "stdout",
     "output_type": "stream",
     "text": [
      "даты  purchases count                           202208\n",
      "mean     2023-03-17 02:49:35.739832064\n",
      "min                2022-05-16 00:00:00\n",
      "25%                2022-11-12 00:00:00\n",
      "50%                2023-04-12 00:00:00\n",
      "75%                2023-07-03 00:00:00\n",
      "max                2024-02-16 00:00:00\n",
      "Name: date, dtype: object\n",
      "даты  messages count                         12739798\n",
      "mean     2023-06-05 02:46:08.357990400\n",
      "min                2022-05-19 00:00:00\n",
      "25%                2022-12-19 00:00:00\n",
      "50%                2023-07-20 00:00:00\n",
      "75%                2023-11-21 00:00:00\n",
      "max                2024-02-15 00:00:00\n",
      "Name: date, dtype: object\n",
      "даты создания  messages count                         12739798\n",
      "mean     2023-06-05 13:58:11.168689408\n",
      "min                2022-05-19 00:14:20\n",
      "25%                2022-12-19 12:46:30\n",
      "50%                2023-07-20 17:21:54\n",
      "75%                2023-11-21 18:13:05\n",
      "max                2024-02-15 23:58:40\n",
      "Name: created_at, dtype: object\n",
      "даты  full_campaign_daily_event count                           131072\n",
      "mean     2023-05-11 18:39:38.320312576\n",
      "min                2022-05-19 00:00:00\n",
      "25%                2022-11-06 00:00:00\n",
      "50%                2023-04-01 00:00:00\n",
      "75%                2023-12-25 00:00:00\n",
      "max                2024-05-15 00:00:00\n",
      "Name: date, dtype: object\n",
      "даты  purcfull_campaign_daily_event_channelhases count                           131072\n",
      "mean     2023-05-11 18:39:38.320312576\n",
      "min                2022-05-19 00:00:00\n",
      "25%                2022-11-06 00:00:00\n",
      "50%                2023-04-01 00:00:00\n",
      "75%                2023-12-25 00:00:00\n",
      "max                2024-05-15 00:00:00\n",
      "Name: date, dtype: object\n"
     ]
    }
   ],
   "source": [
    "print('даты  purchases', purchases['date'].describe())\n",
    "print('даты  messages', messages['date'].describe())\n",
    "print('даты создания  messages', messages['created_at'].describe())\n",
    "print('даты  full_campaign_daily_event', full_campaign_daily_event['date'].describe())\n",
    "print('даты  purcfull_campaign_daily_event_channelhases', full_campaign_daily_event_channel['date'].describe())"
   ]
  },
  {
   "cell_type": "markdown",
   "metadata": {},
   "source": [
    "###  Поиск и удаление дубликатов"
   ]
  },
  {
   "cell_type": "markdown",
   "metadata": {},
   "source": [
    "Проверим количество дубликатов в каждом датасете."
   ]
  },
  {
   "cell_type": "code",
   "execution_count": 10,
   "metadata": {},
   "outputs": [
    {
     "name": "stdout",
     "output_type": "stream",
     "text": [
      "количество полных дубликатов в purchases 73020\n",
      "количество полных дубликатов в messages 48610\n",
      "количество полных дубликатов в apparel_target 0\n",
      "количество полных дубликатов в full_campaign_daily_event 0\n",
      "количество полных дубликатов в full_campaign_daily_event_channel 0\n"
     ]
    }
   ],
   "source": [
    "print('количество полных дубликатов в purchases', purchases.duplicated().sum())\n",
    "print('количество полных дубликатов в messages', messages.duplicated().sum())\n",
    "print('количество полных дубликатов в apparel_target', apparel_target.duplicated().sum())\n",
    "print('количество полных дубликатов в full_campaign_daily_event', full_campaign_daily_event.duplicated().sum())\n",
    "print('количество полных дубликатов в full_campaign_daily_event_channel', full_campaign_daily_event_channel.duplicated().sum())\n"
   ]
  },
  {
   "cell_type": "markdown",
   "metadata": {},
   "source": [
    "Удалим дубликаты только в messages, так как мы уверены что это абсолютные дуликаты из-за столбца `created_at`. Насчет датасета с покупками мы не можем сказать, что это дубликаты, так как пользователей мог совершить одинаковые покупки в один и тот же день."
   ]
  },
  {
   "cell_type": "code",
   "execution_count": 11,
   "metadata": {},
   "outputs": [],
   "source": [
    "messages = messages.drop_duplicates()"
   ]
  },
  {
   "cell_type": "markdown",
   "metadata": {},
   "source": [
    "### Работа с пропусками"
   ]
  },
  {
   "cell_type": "markdown",
   "metadata": {},
   "source": [
    "Проверим наличие пропусков в каждом датасете."
   ]
  },
  {
   "cell_type": "code",
   "execution_count": 12,
   "metadata": {},
   "outputs": [
    {
     "name": "stdout",
     "output_type": "stream",
     "text": [
      "Пропуски в purchases Series([], dtype: int64)\n",
      "Пропуски в messages Series([], dtype: int64)\n",
      "Пропуски в apparel_target Series([], dtype: int64)\n",
      "Пропуски в full_campaign_daily_event Series([], dtype: int64)\n",
      "Пропуски в full_campaign_daily_event_channel Series([], dtype: int64)\n"
     ]
    }
   ],
   "source": [
    "print('Пропуски в purchases', purchases.isna().sum()[purchases.isna().sum()>0])\n",
    "print('Пропуски в messages', messages.isna().sum()[messages.isna().sum()>0])\n",
    "print('Пропуски в apparel_target', apparel_target.isna().sum()[apparel_target.isna().sum()>0])\n",
    "print('Пропуски в full_campaign_daily_event', full_campaign_daily_event.isna().sum()[full_campaign_daily_event.isna().sum()>0])\n",
    "print('Пропуски в full_campaign_daily_event_channel', full_campaign_daily_event_channel.isna().sum()[full_campaign_daily_event_channel.isna().sum()>0])\n"
   ]
  },
  {
   "cell_type": "markdown",
   "metadata": {},
   "source": [
    "Пропуски не обнаружены."
   ]
  },
  {
   "cell_type": "markdown",
   "metadata": {},
   "source": [
    "### Добавление новых признаков и удаление признаков"
   ]
  },
  {
   "cell_type": "markdown",
   "metadata": {},
   "source": [
    "Рассмотрим сначала каждый датасет отдельно ."
   ]
  },
  {
   "cell_type": "markdown",
   "metadata": {},
   "source": [
    "#### full_campaign_daily_event и full_campaign_daily_event_channel"
   ]
  },
  {
   "cell_type": "markdown",
   "metadata": {},
   "source": [
    "Посмотри подробнее на маркетинговый метрики в таблицах `full_campaign_daily_event` и `full_campaign_daily_event_channel`.  \n",
    "\n",
    "Эти термины относятся к метрикам в маркетинге, особенно в контексте email- и push-рассылок. Вот их расшифровка:\n",
    "\n",
    "1. click_email\n",
    "Клики по ссылкам в email-рассылке. Показывает, сколько пользователей перешли по ссылкам внутри письма.\n",
    "\n",
    "2. click_mobile_push\n",
    "Клики по push-уведомлениям на мобильных устройствах.\n",
    "\n",
    "3. open_email\n",
    "Открытия email-писем. Эта метрика показывает, сколько раз письмо было открыто (даже если один пользователь открыл его несколько раз).\n",
    "\n",
    "4. open_mobile_push\n",
    "Открятия push-уведомлений на мобильных устройствах.\n",
    "\n",
    "5. purchase_email\n",
    "Покупки, совершенных после взаимодействия с email-рассылкой. Это помогает оценить эффективность кампании по конверсии.\n",
    "\n",
    "6. purchase_mobile_push\n",
    "Покупки после взаимодействия с push-уведомлением.\n",
    "\n",
    "7. soft_bounce_email\n",
    "\"мягкие отказы\" (soft bounce) в email-рассылке. Это временная ошибка доставки (например, почтовый ящик переполнен или сервер временно недоступен).\n",
    "\n",
    "8. subscribe_email\n",
    "Подписки, оформленные через email-канал.\n",
    "\n",
    "9. unsubscribe_email\n",
    "Отписки от email-рассылок.\n",
    "\n",
    "10. spam_email\n",
    "Письма ушли в спам\n",
    "\n",
    "\n",
    "\n",
    "В этой работе не будем считать уникальные метрики, рассмотрим только общие.  \n",
    "\n",
    "Можем посчитать конверсию - процент покупок от количества переходов по ссылке.\n",
    "\n",
    "например , Клики = (Количество кликов ÷ Количество отправленых писем) × 100 Клики по ссылкам = (Количество кликов ÷ Количество открытых писем) × 100\n",
    "Покупки через email = (Количество покупок ÷ Количество открытых писем) × 100 Жалобы = (Количество жалоб ÷ Количество отправленных писем) × 100\n",
    "\n",
    "и аналогично для пуш уведомлений\n",
    "\n",
    "Добавим конверсию"
   ]
  },
  {
   "cell_type": "code",
   "execution_count": 13,
   "metadata": {},
   "outputs": [],
   "source": [
    "full_campaign_daily_event['conversion_purchase'] = full_campaign_daily_event['count_purchase'] / full_campaign_daily_event['count_send']\n",
    "\n",
    "full_campaign_daily_event['conversion_purchase'] = full_campaign_daily_event['conversion_purchase'].replace([np.inf, -np.inf], 0)\n",
    "full_campaign_daily_event = full_campaign_daily_event.fillna(0)"
   ]
  },
  {
   "cell_type": "code",
   "execution_count": 14,
   "metadata": {},
   "outputs": [],
   "source": [
    "full_campaign_daily_event_channel['conversion_purchase_email'] = \\\n",
    "full_campaign_daily_event_channel['count_purchase_email'] / full_campaign_daily_event_channel['count_send_email']\n",
    "\n",
    "full_campaign_daily_event_channel['conversion_mobile_push'] = \\\n",
    "full_campaign_daily_event_channel['count_purchase_mobile_push'] / full_campaign_daily_event_channel['count_send_mobile_push']\n",
    "\n",
    "full_campaign_daily_event_channel = full_campaign_daily_event_channel.fillna(0)\n",
    "full_campaign_daily_event_channel = full_campaign_daily_event_channel.replace([np.inf, -np.inf], 0)"
   ]
  },
  {
   "cell_type": "code",
   "execution_count": 15,
   "metadata": {},
   "outputs": [],
   "source": [
    "# удаление исходных признаков\n",
    "keywords = ['_bounce', '_subscribe', '_unsubscribe', '_spam', 'nunique', 'count_']\n",
    "col_to_drop = [col for col in full_campaign_daily_event.columns if any(keyword in col for keyword in keywords)]\n",
    "full_campaign_daily_event = full_campaign_daily_event.drop(columns=col_to_drop)"
   ]
  },
  {
   "cell_type": "code",
   "execution_count": 16,
   "metadata": {},
   "outputs": [],
   "source": [
    "# удаление исходных признаков\n",
    "col_to_drop = [col for col in full_campaign_daily_event_channel.columns if any(keyword in col for keyword in keywords)]\n",
    "full_campaign_daily_event_channel = full_campaign_daily_event_channel.drop(columns=col_to_drop)"
   ]
  },
  {
   "cell_type": "markdown",
   "metadata": {},
   "source": [
    "#### messages"
   ]
  },
  {
   "cell_type": "markdown",
   "metadata": {},
   "source": [
    "Преобразуем столбец event  числовой. Негативным событиям присовим -1, позитивным +1, нейтральным - 0"
   ]
  },
  {
   "cell_type": "code",
   "execution_count": 17,
   "metadata": {},
   "outputs": [
    {
     "data": {
      "text/plain": [
       "event\n",
       "send           9058174\n",
       "open           3052481\n",
       "click           483326\n",
       "purchase         62593\n",
       "hard_bounce      19763\n",
       "soft_bounce      10582\n",
       "unsubscribe       2833\n",
       "hbq_spam           823\n",
       "complain           527\n",
       "subscribe           85\n",
       "close                1\n",
       "Name: count, dtype: int64"
      ]
     },
     "execution_count": 17,
     "metadata": {},
     "output_type": "execute_result"
    }
   ],
   "source": [
    "messages['event'].value_counts()"
   ]
  },
  {
   "cell_type": "code",
   "execution_count": 18,
   "metadata": {},
   "outputs": [],
   "source": [
    "messages['event'] = messages['event'].str.replace('send', '0')\n",
    "messages['event'] = messages['event'].str.replace('open', '1')\n",
    "messages['event'] = messages['event'].str.replace('click', '1')\n",
    "messages['event'] = messages['event'].str.replace('purchase', '1')\n",
    "messages['event'] = messages['event'].str.replace('open', '1')\n",
    "messages['event'] = messages['event'].str.replace('hard_bounce', '0')\n",
    "messages['event'] = messages['event'].str.replace('soft_bounce', '0')\n",
    "messages['event'] = messages['event'].str.replace('unsubscribe', '0')\n",
    "messages['event'] = messages['event'].str.replace('hbq_spam', '0')\n",
    "messages['event'] = messages['event'].str.replace('complain', '0')\n",
    "messages['event'] = messages['event'].str.replace('close', '0')\n",
    "messages['event'] = messages['event'].str.replace('subscribe', '0')\n"
   ]
  },
  {
   "cell_type": "code",
   "execution_count": 19,
   "metadata": {},
   "outputs": [
    {
     "name": "stdout",
     "output_type": "stream",
     "text": [
      "<class 'pandas.core.frame.DataFrame'>\n",
      "Index: 12691188 entries, 0 to 12739797\n",
      "Data columns (total 7 columns):\n",
      " #   Column            Dtype         \n",
      "---  ------            -----         \n",
      " 0   bulk_campaign_id  int64         \n",
      " 1   client_id         int64         \n",
      " 2   message_id        object        \n",
      " 3   event             int64         \n",
      " 4   channel           object        \n",
      " 5   date              datetime64[ns]\n",
      " 6   created_at        datetime64[ns]\n",
      "dtypes: datetime64[ns](2), int64(3), object(2)\n",
      "memory usage: 774.6+ MB\n"
     ]
    }
   ],
   "source": [
    "messages['event'] = pd.to_numeric(messages['event'])\n",
    "messages.info()"
   ]
  },
  {
   "cell_type": "markdown",
   "metadata": {},
   "source": [
    "#### purchases"
   ]
  },
  {
   "cell_type": "markdown",
   "metadata": {},
   "source": [
    "Поработаем с `category_ids`."
   ]
  },
  {
   "cell_type": "code",
   "execution_count": 20,
   "metadata": {},
   "outputs": [
    {
     "data": {
      "text/plain": [
       "category_ids\n",
       "['4', '28', '57', '431']            8626\n",
       "['4', '28', '260', '420']           6989\n",
       "['4', '28', '244', '432']           6821\n",
       "[]                                  5579\n",
       "['4', '28', '275', '421']           4936\n",
       "                                    ... \n",
       "['4', '5837', '5836', '839']           1\n",
       "['5562', '5632', '5552', '1089']       1\n",
       "['4', '27', '278', '471']              1\n",
       "['5562', '5697', '5651', '1153']       1\n",
       "['5562', '5597', '5696', '5529']       1\n",
       "Name: count, Length: 933, dtype: int64"
      ]
     },
     "execution_count": 20,
     "metadata": {},
     "output_type": "execute_result"
    }
   ],
   "source": [
    "purchases['category_ids'].value_counts()"
   ]
  },
  {
   "cell_type": "markdown",
   "metadata": {},
   "source": [
    "Так как в некоторых списках категорий на первом месте может стоять маркер распродажи или маркер мужского/женского, то предполодим , что этот маркер - это однозначное число на 1м месте.  \n",
    "\n",
    "Обрабатывать категории будем следующим образом - оставим только одну - первую по порядку и неоднозначную."
   ]
  },
  {
   "cell_type": "raw",
   "metadata": {},
   "source": [
    "#ast.literal_eval(x) — эта функция безопасно преобразует строку, которая выглядит как список, в настоящий список.\n",
    "purchases['category_ids_new'] = purchases['category_ids'].apply(lambda x: ast.literal_eval(x)) \n",
    "\n",
    "#уберем однозначные символы , которые стоят на 1м месте\n",
    "purchases['category_ids_new'] = purchases['category_ids_new'].apply(lambda x: [i for i in x[:2] if i is not None and len(i) > 1] \n",
    "                                                                              if x is not None and x != [] else None)\n",
    "purchases['category_ids_new'] = purchases['category_ids_new'].apply(lambda x: x[0]\n",
    "                                                                              if x is not None and x != [] else None)\n",
    "\n"
   ]
  },
  {
   "cell_type": "code",
   "execution_count": 21,
   "metadata": {},
   "outputs": [],
   "source": [
    "#ast.literal_eval(x) — эта функция безопасно преобразует строку, которая выглядит как список, в настоящий список.\n",
    "purchases['category_ids_new'] = purchases['category_ids'].apply(lambda x: ast.literal_eval(x)) \n",
    "\n",
    "#уберем однозначные символы , которые стоят на 1м месте\n",
    "purchases['category_ids_new'] = purchases['category_ids_new'].apply(lambda x: x[0]\n",
    "                                                                              if x is not None and x != [] and len(str(x[0]))>1\n",
    "                                                                              else x[1]\n",
    "                                                                                   if x is not None and x != []\n",
    "                                                                                   else None    \n",
    "                                                                   )\n",
    "purchases = purchases.dropna()"
   ]
  },
  {
   "cell_type": "code",
   "execution_count": 22,
   "metadata": {},
   "outputs": [
    {
     "data": {
      "text/html": [
       "<div>\n",
       "<style scoped>\n",
       "    .dataframe tbody tr th:only-of-type {\n",
       "        vertical-align: middle;\n",
       "    }\n",
       "\n",
       "    .dataframe tbody tr th {\n",
       "        vertical-align: top;\n",
       "    }\n",
       "\n",
       "    .dataframe thead th {\n",
       "        text-align: right;\n",
       "    }\n",
       "</style>\n",
       "<table border=\"1\" class=\"dataframe\">\n",
       "  <thead>\n",
       "    <tr style=\"text-align: right;\">\n",
       "      <th></th>\n",
       "      <th>client_id</th>\n",
       "      <th>quantity</th>\n",
       "      <th>price</th>\n",
       "      <th>category_ids</th>\n",
       "      <th>date</th>\n",
       "      <th>message_id</th>\n",
       "      <th>category_ids_new</th>\n",
       "    </tr>\n",
       "  </thead>\n",
       "  <tbody>\n",
       "    <tr>\n",
       "      <th>94142</th>\n",
       "      <td>1515915625557051798</td>\n",
       "      <td>1</td>\n",
       "      <td>1750.0</td>\n",
       "      <td>['5562', '5630', '5548', '664']</td>\n",
       "      <td>2023-03-23</td>\n",
       "      <td>1515915625557051798-11207-641c57f025bbf</td>\n",
       "      <td>5562</td>\n",
       "    </tr>\n",
       "    <tr>\n",
       "      <th>45416</th>\n",
       "      <td>1515915625491328346</td>\n",
       "      <td>1</td>\n",
       "      <td>1609.0</td>\n",
       "      <td>['4', '28', '58', '434']</td>\n",
       "      <td>2022-11-11</td>\n",
       "      <td>1515915625491328346-7803-636dfed5a260b</td>\n",
       "      <td>28</td>\n",
       "    </tr>\n",
       "    <tr>\n",
       "      <th>65261</th>\n",
       "      <td>1515915625574025229</td>\n",
       "      <td>1</td>\n",
       "      <td>365.0</td>\n",
       "      <td>['4', '28', '290', '424']</td>\n",
       "      <td>2022-12-15</td>\n",
       "      <td>1515915625574025229-8725-639b2f04187ad</td>\n",
       "      <td>28</td>\n",
       "    </tr>\n",
       "    <tr>\n",
       "      <th>74589</th>\n",
       "      <td>1515915625548441959</td>\n",
       "      <td>1</td>\n",
       "      <td>839.0</td>\n",
       "      <td>['4', '27', '84', '515']</td>\n",
       "      <td>2022-12-22</td>\n",
       "      <td>1515915625548441959-8902-63a2cef90dc3d</td>\n",
       "      <td>27</td>\n",
       "    </tr>\n",
       "    <tr>\n",
       "      <th>56523</th>\n",
       "      <td>1515915625566789392</td>\n",
       "      <td>1</td>\n",
       "      <td>399.0</td>\n",
       "      <td>['4', '27', '1828', '1603']</td>\n",
       "      <td>2022-11-15</td>\n",
       "      <td>1515915625566789392-7845-63733583b2862</td>\n",
       "      <td>27</td>\n",
       "    </tr>\n",
       "    <tr>\n",
       "      <th>188302</th>\n",
       "      <td>1515915625559674048</td>\n",
       "      <td>1</td>\n",
       "      <td>199.0</td>\n",
       "      <td>['4', '28', '228', '435']</td>\n",
       "      <td>2023-12-26</td>\n",
       "      <td>1515915625559674048-14383-658945ce0d8d7</td>\n",
       "      <td>28</td>\n",
       "    </tr>\n",
       "    <tr>\n",
       "      <th>188573</th>\n",
       "      <td>1515915625943252753</td>\n",
       "      <td>1</td>\n",
       "      <td>1119.0</td>\n",
       "      <td>['5562', '5589', '5610', '1636']</td>\n",
       "      <td>2023-12-26</td>\n",
       "      <td>1515915625943252753-14391-658a9c94ea8b5</td>\n",
       "      <td>5562</td>\n",
       "    </tr>\n",
       "    <tr>\n",
       "      <th>51276</th>\n",
       "      <td>1515915625855060937</td>\n",
       "      <td>1</td>\n",
       "      <td>2099.0</td>\n",
       "      <td>['4', '28', '62', '657']</td>\n",
       "      <td>2022-11-12</td>\n",
       "      <td>1515915625855060937-7810-636e5914380e7</td>\n",
       "      <td>28</td>\n",
       "    </tr>\n",
       "    <tr>\n",
       "      <th>155039</th>\n",
       "      <td>1515915625558989519</td>\n",
       "      <td>1</td>\n",
       "      <td>1075.0</td>\n",
       "      <td>['4', '28', '57', '431']</td>\n",
       "      <td>2023-07-07</td>\n",
       "      <td>1515915625489577620-13456-64a7ddfe80bc6</td>\n",
       "      <td>28</td>\n",
       "    </tr>\n",
       "    <tr>\n",
       "      <th>170194</th>\n",
       "      <td>1515915625558324544</td>\n",
       "      <td>1</td>\n",
       "      <td>2043.0</td>\n",
       "      <td>['4', '28', '62', '657']</td>\n",
       "      <td>2023-09-19</td>\n",
       "      <td>1515915625558324544-13815-65091d57c714f</td>\n",
       "      <td>28</td>\n",
       "    </tr>\n",
       "  </tbody>\n",
       "</table>\n",
       "</div>"
      ],
      "text/plain": [
       "                  client_id  quantity   price  \\\n",
       "94142   1515915625557051798         1  1750.0   \n",
       "45416   1515915625491328346         1  1609.0   \n",
       "65261   1515915625574025229         1   365.0   \n",
       "74589   1515915625548441959         1   839.0   \n",
       "56523   1515915625566789392         1   399.0   \n",
       "188302  1515915625559674048         1   199.0   \n",
       "188573  1515915625943252753         1  1119.0   \n",
       "51276   1515915625855060937         1  2099.0   \n",
       "155039  1515915625558989519         1  1075.0   \n",
       "170194  1515915625558324544         1  2043.0   \n",
       "\n",
       "                            category_ids       date  \\\n",
       "94142    ['5562', '5630', '5548', '664'] 2023-03-23   \n",
       "45416           ['4', '28', '58', '434'] 2022-11-11   \n",
       "65261          ['4', '28', '290', '424'] 2022-12-15   \n",
       "74589           ['4', '27', '84', '515'] 2022-12-22   \n",
       "56523        ['4', '27', '1828', '1603'] 2022-11-15   \n",
       "188302         ['4', '28', '228', '435'] 2023-12-26   \n",
       "188573  ['5562', '5589', '5610', '1636'] 2023-12-26   \n",
       "51276           ['4', '28', '62', '657'] 2022-11-12   \n",
       "155039          ['4', '28', '57', '431'] 2023-07-07   \n",
       "170194          ['4', '28', '62', '657'] 2023-09-19   \n",
       "\n",
       "                                     message_id category_ids_new  \n",
       "94142   1515915625557051798-11207-641c57f025bbf             5562  \n",
       "45416    1515915625491328346-7803-636dfed5a260b               28  \n",
       "65261    1515915625574025229-8725-639b2f04187ad               28  \n",
       "74589    1515915625548441959-8902-63a2cef90dc3d               27  \n",
       "56523    1515915625566789392-7845-63733583b2862               27  \n",
       "188302  1515915625559674048-14383-658945ce0d8d7               28  \n",
       "188573  1515915625943252753-14391-658a9c94ea8b5             5562  \n",
       "51276    1515915625855060937-7810-636e5914380e7               28  \n",
       "155039  1515915625489577620-13456-64a7ddfe80bc6               28  \n",
       "170194  1515915625558324544-13815-65091d57c714f               28  "
      ]
     },
     "execution_count": 22,
     "metadata": {},
     "output_type": "execute_result"
    }
   ],
   "source": [
    "purchases.sample(10)"
   ]
  },
  {
   "cell_type": "code",
   "execution_count": 23,
   "metadata": {},
   "outputs": [
    {
     "name": "stdout",
     "output_type": "stream",
     "text": [
      "было 931\n",
      "стало 18\n",
      "пропуски 0\n"
     ]
    }
   ],
   "source": [
    "print('было', purchases['category_ids'].nunique())\n",
    "print('стало', purchases['category_ids_new'].nunique())\n",
    "print('пропуски', purchases['category_ids_new'].isna().sum())"
   ]
  },
  {
   "cell_type": "markdown",
   "metadata": {},
   "source": [
    "Получилось снизить уникальность категорий с 931 до 18."
   ]
  },
  {
   "cell_type": "markdown",
   "metadata": {},
   "source": [
    "Добавим столбец с количеством дней , прошедших с последней покупки. Но так как мы не знаем дату выгрузки , найдем максимальную дату и примем ее за \"току отсчета\", и от нее посчитаем количество дней для каждой покупки."
   ]
  },
  {
   "cell_type": "code",
   "execution_count": 24,
   "metadata": {},
   "outputs": [
    {
     "name": "stdout",
     "output_type": "stream",
     "text": [
      "2024-02-16 00:00:00\n"
     ]
    },
    {
     "data": {
      "text/html": [
       "<div>\n",
       "<style scoped>\n",
       "    .dataframe tbody tr th:only-of-type {\n",
       "        vertical-align: middle;\n",
       "    }\n",
       "\n",
       "    .dataframe tbody tr th {\n",
       "        vertical-align: top;\n",
       "    }\n",
       "\n",
       "    .dataframe thead th {\n",
       "        text-align: right;\n",
       "    }\n",
       "</style>\n",
       "<table border=\"1\" class=\"dataframe\">\n",
       "  <thead>\n",
       "    <tr style=\"text-align: right;\">\n",
       "      <th></th>\n",
       "      <th>client_id</th>\n",
       "      <th>quantity</th>\n",
       "      <th>price</th>\n",
       "      <th>category_ids</th>\n",
       "      <th>date</th>\n",
       "      <th>message_id</th>\n",
       "      <th>category_ids_new</th>\n",
       "      <th>days_last_purchases</th>\n",
       "    </tr>\n",
       "  </thead>\n",
       "  <tbody>\n",
       "    <tr>\n",
       "      <th>83942</th>\n",
       "      <td>1515915625593801805</td>\n",
       "      <td>1</td>\n",
       "      <td>2309.0</td>\n",
       "      <td>['4', '29', '310', '500']</td>\n",
       "      <td>2023-01-25</td>\n",
       "      <td>1515915625593801805-9551-63cf7ead98df4</td>\n",
       "      <td>29</td>\n",
       "      <td>387</td>\n",
       "    </tr>\n",
       "    <tr>\n",
       "      <th>187144</th>\n",
       "      <td>1515915625932350752</td>\n",
       "      <td>1</td>\n",
       "      <td>139.0</td>\n",
       "      <td>['6060', '6058', '6061', '5504']</td>\n",
       "      <td>2023-12-24</td>\n",
       "      <td>1515915625932350752-14356-65869a9999c0a</td>\n",
       "      <td>6060</td>\n",
       "      <td>54</td>\n",
       "    </tr>\n",
       "    <tr>\n",
       "      <th>64592</th>\n",
       "      <td>1515915625487340849</td>\n",
       "      <td>1</td>\n",
       "      <td>353.0</td>\n",
       "      <td>['5562', '5536', '5829', '1679']</td>\n",
       "      <td>2022-12-15</td>\n",
       "      <td>1515915625589704388-8725-639b2f0448754</td>\n",
       "      <td>5562</td>\n",
       "      <td>428</td>\n",
       "    </tr>\n",
       "    <tr>\n",
       "      <th>90663</th>\n",
       "      <td>1515915625631499625</td>\n",
       "      <td>1</td>\n",
       "      <td>26.0</td>\n",
       "      <td>['4', '44', '1571']</td>\n",
       "      <td>2023-03-09</td>\n",
       "      <td>1515915625631499625-10777-64098b2147c03</td>\n",
       "      <td>44</td>\n",
       "      <td>344</td>\n",
       "    </tr>\n",
       "    <tr>\n",
       "      <th>119498</th>\n",
       "      <td>1515915625586232008</td>\n",
       "      <td>1</td>\n",
       "      <td>1119.0</td>\n",
       "      <td>['4', '28', '244', '432']</td>\n",
       "      <td>2023-05-06</td>\n",
       "      <td>1515915625491414914-12367-6454f133dbd4e</td>\n",
       "      <td>28</td>\n",
       "      <td>286</td>\n",
       "    </tr>\n",
       "  </tbody>\n",
       "</table>\n",
       "</div>"
      ],
      "text/plain": [
       "                  client_id  quantity   price  \\\n",
       "83942   1515915625593801805         1  2309.0   \n",
       "187144  1515915625932350752         1   139.0   \n",
       "64592   1515915625487340849         1   353.0   \n",
       "90663   1515915625631499625         1    26.0   \n",
       "119498  1515915625586232008         1  1119.0   \n",
       "\n",
       "                            category_ids       date  \\\n",
       "83942          ['4', '29', '310', '500'] 2023-01-25   \n",
       "187144  ['6060', '6058', '6061', '5504'] 2023-12-24   \n",
       "64592   ['5562', '5536', '5829', '1679'] 2022-12-15   \n",
       "90663                ['4', '44', '1571'] 2023-03-09   \n",
       "119498         ['4', '28', '244', '432'] 2023-05-06   \n",
       "\n",
       "                                     message_id category_ids_new  \\\n",
       "83942    1515915625593801805-9551-63cf7ead98df4               29   \n",
       "187144  1515915625932350752-14356-65869a9999c0a             6060   \n",
       "64592    1515915625589704388-8725-639b2f0448754             5562   \n",
       "90663   1515915625631499625-10777-64098b2147c03               44   \n",
       "119498  1515915625491414914-12367-6454f133dbd4e               28   \n",
       "\n",
       "        days_last_purchases  \n",
       "83942                   387  \n",
       "187144                   54  \n",
       "64592                   428  \n",
       "90663                   344  \n",
       "119498                  286  "
      ]
     },
     "execution_count": 24,
     "metadata": {},
     "output_type": "execute_result"
    }
   ],
   "source": [
    "max_date = purchases['date'].max()\n",
    "print(max_date)\n",
    "purchases['days_last_purchases'] = (purchases['date'] - max_date).dt.days * -1\n",
    "purchases.sample(5)"
   ]
  },
  {
   "cell_type": "code",
   "execution_count": 25,
   "metadata": {},
   "outputs": [
    {
     "data": {
      "text/plain": [
       "quantity\n",
       "1     194480\n",
       "2        751\n",
       "3         94\n",
       "4         12\n",
       "6          5\n",
       "10         4\n",
       "20         3\n",
       "15         3\n",
       "5          3\n",
       "25         2\n",
       "30         2\n",
       "9          2\n",
       "13         1\n",
       "18         1\n",
       "8          1\n",
       "7          1\n",
       "Name: count, dtype: int64"
      ]
     },
     "execution_count": 25,
     "metadata": {},
     "output_type": "execute_result"
    }
   ],
   "source": [
    "purchases['quantity'].value_counts()"
   ]
  },
  {
   "cell_type": "markdown",
   "metadata": {},
   "source": [
    "Покупки в основном совершаются по 1 штуке, поэтому можно было не вводить дополнительный признак  - выручка, так как цена в большинстве случаев будет равна выручке, но так как есть покупки , где количество превышает 1, все -таки  введем выручку и удалим цену."
   ]
  },
  {
   "cell_type": "code",
   "execution_count": 26,
   "metadata": {},
   "outputs": [],
   "source": [
    "purchases['revenue'] = purchases['quantity'] * purchases['price'] "
   ]
  },
  {
   "cell_type": "code",
   "execution_count": 27,
   "metadata": {},
   "outputs": [],
   "source": [
    "purchases = purchases.drop(columns=['date', 'category_ids', 'price'])"
   ]
  },
  {
   "cell_type": "markdown",
   "metadata": {},
   "source": [
    "Теперь сгруппируем таблицу по client_id и message_id, затем по category_ids_new"
   ]
  },
  {
   "cell_type": "code",
   "execution_count": 28,
   "metadata": {},
   "outputs": [],
   "source": [
    "group_purchases = purchases.groupby(['client_id', 'message_id'], as_index=False) \\\n",
    "    .agg({\n",
    "        'quantity': 'sum',\n",
    "        'revenue': 'sum',\n",
    "        'days_last_purchases': 'mean'\n",
    "    })\n",
    "\n",
    "\n",
    "# Считаем моду и преобразуем в DataFrame\n",
    "category_mode = purchases.groupby(['client_id', 'message_id'])['category_ids_new'] \\\n",
    "    .agg(lambda x: x.mode().iloc[0] if not x.mode().empty else None).reset_index()\n",
    "\n",
    "# Объединяем результаты по общим индексам\n",
    "group_purchases = group_purchases.merge(category_mode, on=['client_id', 'message_id'], how='left')"
   ]
  },
  {
   "cell_type": "raw",
   "metadata": {},
   "source": [
    "group_purchases = purchases.groupby(['client_id'], as_index=False) \\\n",
    "    .agg({\n",
    "        'quantity': 'sum',\n",
    "        'revenue': 'sum',\n",
    "        'days_last_purchases': 'mean'\n",
    "    })\n",
    "\n",
    "\n",
    "# Считаем моду и преобразуем в DataFrame\n",
    "category_mode = purchases.groupby(['client_id'])['category_ids_new'] \\\n",
    "    .agg(lambda x: x.mode().iloc[0] if not x.mode().empty else None).reset_index()\n",
    "\n",
    "# Объединяем результаты по общим индексам\n",
    "group_purchases = group_purchases.merge(category_mode, on=['client_id'], how='left')"
   ]
  },
  {
   "cell_type": "code",
   "execution_count": 29,
   "metadata": {},
   "outputs": [
    {
     "data": {
      "text/html": [
       "<div>\n",
       "<style scoped>\n",
       "    .dataframe tbody tr th:only-of-type {\n",
       "        vertical-align: middle;\n",
       "    }\n",
       "\n",
       "    .dataframe tbody tr th {\n",
       "        vertical-align: top;\n",
       "    }\n",
       "\n",
       "    .dataframe thead th {\n",
       "        text-align: right;\n",
       "    }\n",
       "</style>\n",
       "<table border=\"1\" class=\"dataframe\">\n",
       "  <thead>\n",
       "    <tr style=\"text-align: right;\">\n",
       "      <th></th>\n",
       "      <th>client_id</th>\n",
       "      <th>message_id</th>\n",
       "      <th>quantity</th>\n",
       "      <th>revenue</th>\n",
       "      <th>days_last_purchases</th>\n",
       "      <th>category_ids_new</th>\n",
       "    </tr>\n",
       "  </thead>\n",
       "  <tbody>\n",
       "    <tr>\n",
       "      <th>0</th>\n",
       "      <td>1515915625468060902</td>\n",
       "      <td>1515915625468060902-4617-6290657dac196</td>\n",
       "      <td>7</td>\n",
       "      <td>6993.0</td>\n",
       "      <td>630.0</td>\n",
       "      <td>28</td>\n",
       "    </tr>\n",
       "    <tr>\n",
       "      <th>1</th>\n",
       "      <td>1515915625468061003</td>\n",
       "      <td>1515915625468061003-9148-63b54b04855a4</td>\n",
       "      <td>7</td>\n",
       "      <td>16235.0</td>\n",
       "      <td>408.0</td>\n",
       "      <td>28</td>\n",
       "    </tr>\n",
       "    <tr>\n",
       "      <th>2</th>\n",
       "      <td>1515915625468061099</td>\n",
       "      <td>1515915625468061099-4439-62834141aa538</td>\n",
       "      <td>1</td>\n",
       "      <td>299.0</td>\n",
       "      <td>640.0</td>\n",
       "      <td>28</td>\n",
       "    </tr>\n",
       "    <tr>\n",
       "      <th>3</th>\n",
       "      <td>1515915625468061100</td>\n",
       "      <td>1515915625468061100-14623-65c5c55eeb9e0</td>\n",
       "      <td>2</td>\n",
       "      <td>2098.0</td>\n",
       "      <td>6.0</td>\n",
       "      <td>27</td>\n",
       "    </tr>\n",
       "    <tr>\n",
       "      <th>4</th>\n",
       "      <td>1515915625468061170</td>\n",
       "      <td>1515915625468061170-11144-641ad2cda77a2</td>\n",
       "      <td>2</td>\n",
       "      <td>5398.0</td>\n",
       "      <td>327.0</td>\n",
       "      <td>18</td>\n",
       "    </tr>\n",
       "  </tbody>\n",
       "</table>\n",
       "</div>"
      ],
      "text/plain": [
       "             client_id                               message_id  quantity  \\\n",
       "0  1515915625468060902   1515915625468060902-4617-6290657dac196         7   \n",
       "1  1515915625468061003   1515915625468061003-9148-63b54b04855a4         7   \n",
       "2  1515915625468061099   1515915625468061099-4439-62834141aa538         1   \n",
       "3  1515915625468061100  1515915625468061100-14623-65c5c55eeb9e0         2   \n",
       "4  1515915625468061170  1515915625468061170-11144-641ad2cda77a2         2   \n",
       "\n",
       "   revenue  days_last_purchases category_ids_new  \n",
       "0   6993.0                630.0               28  \n",
       "1  16235.0                408.0               28  \n",
       "2    299.0                640.0               28  \n",
       "3   2098.0                  6.0               27  \n",
       "4   5398.0                327.0               18  "
      ]
     },
     "execution_count": 29,
     "metadata": {},
     "output_type": "execute_result"
    }
   ],
   "source": [
    "group_purchases.head()"
   ]
  },
  {
   "cell_type": "code",
   "execution_count": 30,
   "metadata": {},
   "outputs": [
    {
     "name": "stdout",
     "output_type": "stream",
     "text": [
      "<class 'pandas.core.frame.DataFrame'>\n",
      "RangeIndex: 58329 entries, 0 to 58328\n",
      "Data columns (total 6 columns):\n",
      " #   Column               Non-Null Count  Dtype  \n",
      "---  ------               --------------  -----  \n",
      " 0   client_id            58329 non-null  int64  \n",
      " 1   message_id           58329 non-null  object \n",
      " 2   quantity             58329 non-null  int64  \n",
      " 3   revenue              58329 non-null  float64\n",
      " 4   days_last_purchases  58329 non-null  float64\n",
      " 5   category_ids_new     58329 non-null  object \n",
      "dtypes: float64(2), int64(2), object(2)\n",
      "memory usage: 2.7+ MB\n"
     ]
    }
   ],
   "source": [
    "group_purchases.info()"
   ]
  },
  {
   "cell_type": "markdown",
   "metadata": {},
   "source": [
    "#### Выводы по результатам шага"
   ]
  },
  {
   "cell_type": "markdown",
   "metadata": {},
   "source": [
    "Проведена предобработка данных, выявлены и устранены полные дубликаты.   \n",
    "\n",
    "Добавлены новые признаки в таблицы purchases и full_campaign_daily_event, full_campaign_daily_event_channel\n",
    "\n",
    "Пропуски в данных не обнаружены."
   ]
  },
  {
   "cell_type": "markdown",
   "metadata": {},
   "source": [
    "### Объединенение таблиц"
   ]
  },
  {
   "cell_type": "markdown",
   "metadata": {},
   "source": [
    "Так как объединение будем проводить по id , то помсотрим сколько уникальных значений по каждому id"
   ]
  },
  {
   "cell_type": "code",
   "execution_count": 31,
   "metadata": {},
   "outputs": [
    {
     "name": "stdout",
     "output_type": "stream",
     "text": [
      "purchases\n",
      "Количество уникальных значений message_id 50202\n",
      "Количество уникальных значений client_id 49848\n",
      "\n",
      "messages\n",
      "Количество уникальных значений message_id 9061667\n",
      "Количество уникальных значений client_id 53329\n",
      "Количество уникальных значений bulk_campaign_id 2709\n",
      "\n",
      "apparel_target\n",
      "Количество уникальных значений client_id 49849\n",
      "\n",
      "full_campaign_daily_event\n",
      "Количество уникальных значений bulk_campaign_id 3181\n",
      "\n",
      "full_campaign_daily_event_channel\n",
      "Количество уникальных значений bulk_campaign_id 3181\n"
     ]
    }
   ],
   "source": [
    "print('purchases')\n",
    "print('Количество уникальных значений message_id', purchases['message_id'].nunique())\n",
    "print('Количество уникальных значений client_id', purchases['client_id'].nunique())\n",
    "print()\n",
    "print('messages')\n",
    "print('Количество уникальных значений message_id', messages['message_id'].nunique())\n",
    "print('Количество уникальных значений client_id', messages['client_id'].nunique())\n",
    "print('Количество уникальных значений bulk_campaign_id', messages['bulk_campaign_id'].nunique())\n",
    "print()\n",
    "print('apparel_target')\n",
    "print('Количество уникальных значений client_id', apparel_target['client_id'].nunique())\n",
    "print()\n",
    "print('full_campaign_daily_event')\n",
    "print('Количество уникальных значений bulk_campaign_id', full_campaign_daily_event['bulk_campaign_id'].nunique())\n",
    "print()\n",
    "print('full_campaign_daily_event_channel')\n",
    "print('Количество уникальных значений bulk_campaign_id', full_campaign_daily_event_channel['bulk_campaign_id'].nunique())"
   ]
  },
  {
   "cell_type": "markdown",
   "metadata": {},
   "source": [
    "За основу возьмем датасет messages и в него сначала присоеденим все данные по  events из датасетов full_campaign_daily_event_channel и full_campaign_daily_event  по (bulk_campaign_id и date). Далее удалим строки с пропусками и в полученную таблицу добавим данные из уже сгруппированной таблицы purchases, объединение произведем по client_id и message_id."
   ]
  },
  {
   "cell_type": "code",
   "execution_count": 32,
   "metadata": {},
   "outputs": [],
   "source": [
    "#объединяем данные по рассылкам\n",
    "data = messages.merge(full_campaign_daily_event, on=['bulk_campaign_id', 'date'], how='left')\\\n",
    "               .merge(full_campaign_daily_event_channel, on=['bulk_campaign_id', 'date'], how='left')\n",
    "data = data.drop(columns=['date', 'bulk_campaign_id', 'message_id'])"
   ]
  },
  {
   "cell_type": "code",
   "execution_count": 33,
   "metadata": {},
   "outputs": [
    {
     "name": "stdout",
     "output_type": "stream",
     "text": [
      "<class 'pandas.core.frame.DataFrame'>\n",
      "RangeIndex: 12691188 entries, 0 to 12691187\n",
      "Data columns (total 7 columns):\n",
      " #   Column                     Dtype         \n",
      "---  ------                     -----         \n",
      " 0   client_id                  int64         \n",
      " 1   event                      int64         \n",
      " 2   channel                    object        \n",
      " 3   created_at                 datetime64[ns]\n",
      " 4   conversion_purchase        float64       \n",
      " 5   conversion_purchase_email  float64       \n",
      " 6   conversion_mobile_push     float64       \n",
      "dtypes: datetime64[ns](1), float64(3), int64(2), object(1)\n",
      "memory usage: 677.8+ MB\n"
     ]
    }
   ],
   "source": [
    "data.info()"
   ]
  },
  {
   "cell_type": "code",
   "execution_count": 34,
   "metadata": {},
   "outputs": [
    {
     "name": "stdout",
     "output_type": "stream",
     "text": [
      "Длина датасета messages 12691188\n",
      "Длина датасета data 12691188\n",
      "\n",
      "Пропуски\n"
     ]
    },
    {
     "data": {
      "text/plain": [
       "conversion_purchase          1848\n",
       "conversion_purchase_email    1848\n",
       "conversion_mobile_push       1848\n",
       "dtype: int64"
      ]
     },
     "execution_count": 34,
     "metadata": {},
     "output_type": "execute_result"
    }
   ],
   "source": [
    "print('Длина датасета messages', len(messages))\n",
    "print('Длина датасета data', len(data))\n",
    "print()\n",
    "print('Пропуски')\n",
    "data.isna().sum()[data.isna().sum()>0]"
   ]
  },
  {
   "cell_type": "code",
   "execution_count": 35,
   "metadata": {},
   "outputs": [],
   "source": [
    "data = data.dropna()"
   ]
  },
  {
   "cell_type": "code",
   "execution_count": 36,
   "metadata": {},
   "outputs": [],
   "source": [
    "data_group = data.groupby(['client_id'], as_index=False).agg({\n",
    "        'event': 'sum', \n",
    "        'conversion_purchase': 'mean',\n",
    "        'conversion_purchase_email': 'mean',\n",
    "        'conversion_mobile_push': 'mean'\n",
    "        })\n",
    "\n",
    "channel_mode = data.groupby(['client_id'])['channel'] \\\n",
    "    .agg(lambda x: x.mode().iloc[0] if not x.mode().empty else None).reset_index()\n",
    "\n",
    "# Объединяем результаты по общим id\n",
    "data_group_messages = data_group.merge(channel_mode, on=['client_id'], how='left')\n"
   ]
  },
  {
   "cell_type": "code",
   "execution_count": 37,
   "metadata": {},
   "outputs": [],
   "source": [
    "#присоединяем данные с покупками\n",
    "data = data_group_messages.merge(group_purchases, on=['client_id'], how='left')\n",
    "data = data.drop(columns=['message_id'])"
   ]
  },
  {
   "cell_type": "code",
   "execution_count": 38,
   "metadata": {},
   "outputs": [
    {
     "name": "stdout",
     "output_type": "stream",
     "text": [
      "<class 'pandas.core.frame.DataFrame'>\n",
      "RangeIndex: 60893 entries, 0 to 60892\n",
      "Data columns (total 10 columns):\n",
      " #   Column                     Non-Null Count  Dtype  \n",
      "---  ------                     --------------  -----  \n",
      " 0   client_id                  60893 non-null  int64  \n",
      " 1   event                      60893 non-null  int64  \n",
      " 2   conversion_purchase        60893 non-null  float64\n",
      " 3   conversion_purchase_email  60893 non-null  float64\n",
      " 4   conversion_mobile_push     60893 non-null  float64\n",
      " 5   channel                    60893 non-null  object \n",
      " 6   quantity                   49545 non-null  float64\n",
      " 7   revenue                    49545 non-null  float64\n",
      " 8   days_last_purchases        49545 non-null  float64\n",
      " 9   category_ids_new           49545 non-null  object \n",
      "dtypes: float64(6), int64(2), object(2)\n",
      "memory usage: 4.6+ MB\n"
     ]
    }
   ],
   "source": [
    "data.info()"
   ]
  },
  {
   "cell_type": "code",
   "execution_count": 39,
   "metadata": {},
   "outputs": [
    {
     "name": "stdout",
     "output_type": "stream",
     "text": [
      "Пропуски\n"
     ]
    },
    {
     "data": {
      "text/plain": [
       "quantity               11348\n",
       "revenue                11348\n",
       "days_last_purchases    11348\n",
       "category_ids_new       11348\n",
       "dtype: int64"
      ]
     },
     "execution_count": 39,
     "metadata": {},
     "output_type": "execute_result"
    }
   ],
   "source": [
    "print('Пропуски')\n",
    "data.isna().sum()[data.isna().sum()>0]"
   ]
  },
  {
   "cell_type": "code",
   "execution_count": 40,
   "metadata": {},
   "outputs": [],
   "source": [
    "data = data.dropna()"
   ]
  },
  {
   "cell_type": "markdown",
   "metadata": {},
   "source": [
    "Посмотрим, остались ли дубликаты, но удалять их не будем , так как это могли присоединиться разные покупки одного и того же покупателя"
   ]
  },
  {
   "cell_type": "code",
   "execution_count": 41,
   "metadata": {},
   "outputs": [
    {
     "data": {
      "text/plain": [
       "18"
      ]
     },
     "execution_count": 41,
     "metadata": {},
     "output_type": "execute_result"
    }
   ],
   "source": [
    "data.duplicated().sum()"
   ]
  },
  {
   "cell_type": "code",
   "execution_count": 42,
   "metadata": {},
   "outputs": [
    {
     "name": "stdout",
     "output_type": "stream",
     "text": [
      "<class 'pandas.core.frame.DataFrame'>\n",
      "Index: 49545 entries, 0 to 60891\n",
      "Data columns (total 10 columns):\n",
      " #   Column                     Non-Null Count  Dtype  \n",
      "---  ------                     --------------  -----  \n",
      " 0   client_id                  49545 non-null  int64  \n",
      " 1   event                      49545 non-null  int64  \n",
      " 2   conversion_purchase        49545 non-null  float64\n",
      " 3   conversion_purchase_email  49545 non-null  float64\n",
      " 4   conversion_mobile_push     49545 non-null  float64\n",
      " 5   channel                    49545 non-null  object \n",
      " 6   quantity                   49545 non-null  float64\n",
      " 7   revenue                    49545 non-null  float64\n",
      " 8   days_last_purchases        49545 non-null  float64\n",
      " 9   category_ids_new           49545 non-null  object \n",
      "dtypes: float64(6), int64(2), object(2)\n",
      "memory usage: 4.2+ MB\n"
     ]
    }
   ],
   "source": [
    "data.info()"
   ]
  },
  {
   "cell_type": "code",
   "execution_count": 43,
   "metadata": {},
   "outputs": [
    {
     "name": "stdout",
     "output_type": "stream",
     "text": [
      "Количество уникальных значений client_id в data 41981\n"
     ]
    }
   ],
   "source": [
    "print('Количество уникальных значений client_id в data', data['client_id'].nunique())"
   ]
  },
  {
   "cell_type": "markdown",
   "metadata": {},
   "source": [
    "Перед присоединением таргета по client_id сгруппируем данные в промежуточном датасете по client_id."
   ]
  },
  {
   "cell_type": "code",
   "execution_count": 44,
   "metadata": {},
   "outputs": [],
   "source": [
    "data_group = data.groupby(['client_id'], as_index=False).agg({\n",
    "        'quantity': 'sum',\n",
    "        'revenue': 'sum',\n",
    "        'event': 'sum',\n",
    "        'days_last_purchases': 'mean', \n",
    "        'conversion_purchase': 'mean',\n",
    "        'conversion_purchase_email': 'mean',\n",
    "        'conversion_mobile_push': 'mean'\n",
    "    \n",
    "    })\n",
    "\n",
    "\n",
    "\n",
    "\n",
    "# Считаем моду в категориальных признаках и преобразуем в DataFrame\n",
    "\n",
    "category_mode = data.groupby(['client_id'])['category_ids_new'] \\\n",
    "    .agg(lambda x: x.mode().iloc[0] if not x.mode().empty else None).reset_index()\n",
    "\n",
    "\n",
    "channel_mode = data.groupby(['client_id'])['channel'] \\\n",
    "    .agg(lambda x: x.mode().iloc[0] if not x.mode().empty else None).reset_index()\n",
    "\n",
    "# Объединяем результаты по общим id\n",
    "data = data_group.merge(category_mode, on=['client_id'], how='left')\\\n",
    "                                 .merge(channel_mode, on=['client_id'], how='left')\n"
   ]
  },
  {
   "cell_type": "code",
   "execution_count": 45,
   "metadata": {},
   "outputs": [
    {
     "name": "stdout",
     "output_type": "stream",
     "text": [
      "<class 'pandas.core.frame.DataFrame'>\n",
      "RangeIndex: 41981 entries, 0 to 41980\n",
      "Data columns (total 10 columns):\n",
      " #   Column                     Non-Null Count  Dtype  \n",
      "---  ------                     --------------  -----  \n",
      " 0   client_id                  41981 non-null  int64  \n",
      " 1   quantity                   41981 non-null  float64\n",
      " 2   revenue                    41981 non-null  float64\n",
      " 3   event                      41981 non-null  int64  \n",
      " 4   days_last_purchases        41981 non-null  float64\n",
      " 5   conversion_purchase        41981 non-null  float64\n",
      " 6   conversion_purchase_email  41981 non-null  float64\n",
      " 7   conversion_mobile_push     41981 non-null  float64\n",
      " 8   category_ids_new           41981 non-null  object \n",
      " 9   channel                    41981 non-null  object \n",
      "dtypes: float64(6), int64(2), object(2)\n",
      "memory usage: 3.2+ MB\n"
     ]
    }
   ],
   "source": [
    "data.info()"
   ]
  },
  {
   "cell_type": "code",
   "execution_count": 46,
   "metadata": {},
   "outputs": [
    {
     "name": "stdout",
     "output_type": "stream",
     "text": [
      "Количество уникальных значений client_id в apparel_target 49849\n",
      "Количество уникальных значений client_id в data 41981\n"
     ]
    },
    {
     "data": {
      "text/plain": [
       "Series([], dtype: int64)"
      ]
     },
     "execution_count": 46,
     "metadata": {},
     "output_type": "execute_result"
    }
   ],
   "source": [
    "#добавляем таргет в финальный датасет\n",
    "data = data.merge(apparel_target, on=['client_id'], how='left')\n",
    "print('Количество уникальных значений client_id в apparel_target', apparel_target['client_id'].nunique())\n",
    "print('Количество уникальных значений client_id в data', data['client_id'].nunique())\n",
    "data.isna().sum()[data.isna().sum()>0]"
   ]
  },
  {
   "cell_type": "code",
   "execution_count": 47,
   "metadata": {},
   "outputs": [],
   "source": [
    "data = data.dropna()"
   ]
  },
  {
   "cell_type": "code",
   "execution_count": 48,
   "metadata": {},
   "outputs": [
    {
     "name": "stdout",
     "output_type": "stream",
     "text": [
      "<class 'pandas.core.frame.DataFrame'>\n",
      "Index: 41981 entries, 1515915625468060902 to 1515915626010261344\n",
      "Data columns (total 10 columns):\n",
      " #   Column                     Non-Null Count  Dtype  \n",
      "---  ------                     --------------  -----  \n",
      " 0   quantity                   41981 non-null  float64\n",
      " 1   revenue                    41981 non-null  float64\n",
      " 2   event                      41981 non-null  int64  \n",
      " 3   days_last_purchases        41981 non-null  float64\n",
      " 4   conversion_purchase        41981 non-null  float64\n",
      " 5   conversion_purchase_email  41981 non-null  float64\n",
      " 6   conversion_mobile_push     41981 non-null  float64\n",
      " 7   category_ids_new           41981 non-null  object \n",
      " 8   channel                    41981 non-null  object \n",
      " 9   target                     41981 non-null  int64  \n",
      "dtypes: float64(6), int64(2), object(2)\n",
      "memory usage: 3.5+ MB\n"
     ]
    }
   ],
   "source": [
    "#устаналиваем client_id индексом\n",
    "data.set_index('client_id', inplace = True)\n",
    "data.info()"
   ]
  },
  {
   "cell_type": "code",
   "execution_count": 49,
   "metadata": {},
   "outputs": [
    {
     "data": {
      "text/plain": [
       "target\n",
       "0    41135\n",
       "1      846\n",
       "Name: count, dtype: int64"
      ]
     },
     "execution_count": 49,
     "metadata": {},
     "output_type": "execute_result"
    }
   ],
   "source": [
    "data['target'].value_counts()"
   ]
  },
  {
   "cell_type": "markdown",
   "metadata": {},
   "source": [
    "Дисбаланс классов будем устранять при полготовке данных к обучению моделей. Обязательно будем использовать стратифкацию при разбиении датасета на выборки , а также метод SMOTE для создания дополнительных строк наименьшего класса."
   ]
  },
  {
   "cell_type": "code",
   "execution_count": 50,
   "metadata": {},
   "outputs": [
    {
     "data": {
      "text/html": [
       "<div>\n",
       "<style scoped>\n",
       "    .dataframe tbody tr th:only-of-type {\n",
       "        vertical-align: middle;\n",
       "    }\n",
       "\n",
       "    .dataframe tbody tr th {\n",
       "        vertical-align: top;\n",
       "    }\n",
       "\n",
       "    .dataframe thead th {\n",
       "        text-align: right;\n",
       "    }\n",
       "</style>\n",
       "<table border=\"1\" class=\"dataframe\">\n",
       "  <thead>\n",
       "    <tr style=\"text-align: right;\">\n",
       "      <th></th>\n",
       "      <th>quantity</th>\n",
       "      <th>revenue</th>\n",
       "      <th>event</th>\n",
       "      <th>days_last_purchases</th>\n",
       "      <th>conversion_purchase</th>\n",
       "      <th>conversion_purchase_email</th>\n",
       "      <th>conversion_mobile_push</th>\n",
       "      <th>category_ids_new</th>\n",
       "      <th>channel</th>\n",
       "      <th>target</th>\n",
       "    </tr>\n",
       "    <tr>\n",
       "      <th>client_id</th>\n",
       "      <th></th>\n",
       "      <th></th>\n",
       "      <th></th>\n",
       "      <th></th>\n",
       "      <th></th>\n",
       "      <th></th>\n",
       "      <th></th>\n",
       "      <th></th>\n",
       "      <th></th>\n",
       "      <th></th>\n",
       "    </tr>\n",
       "  </thead>\n",
       "  <tbody>\n",
       "    <tr>\n",
       "      <th>1515915625501186777</th>\n",
       "      <td>10.0</td>\n",
       "      <td>7414.0</td>\n",
       "      <td>22</td>\n",
       "      <td>308.000000</td>\n",
       "      <td>0.000024</td>\n",
       "      <td>0.000021</td>\n",
       "      <td>2.845972e-06</td>\n",
       "      <td>18</td>\n",
       "      <td>email</td>\n",
       "      <td>0</td>\n",
       "    </tr>\n",
       "    <tr>\n",
       "      <th>1515915625545777517</th>\n",
       "      <td>1.0</td>\n",
       "      <td>799.0</td>\n",
       "      <td>65</td>\n",
       "      <td>611.000000</td>\n",
       "      <td>0.000053</td>\n",
       "      <td>0.000053</td>\n",
       "      <td>0.000000e+00</td>\n",
       "      <td>18</td>\n",
       "      <td>email</td>\n",
       "      <td>0</td>\n",
       "    </tr>\n",
       "    <tr>\n",
       "      <th>1515915625607215555</th>\n",
       "      <td>4.0</td>\n",
       "      <td>10376.0</td>\n",
       "      <td>224</td>\n",
       "      <td>209.000000</td>\n",
       "      <td>0.000094</td>\n",
       "      <td>0.000094</td>\n",
       "      <td>0.000000e+00</td>\n",
       "      <td>28</td>\n",
       "      <td>email</td>\n",
       "      <td>0</td>\n",
       "    </tr>\n",
       "    <tr>\n",
       "      <th>1515915625557689027</th>\n",
       "      <td>4.0</td>\n",
       "      <td>6896.0</td>\n",
       "      <td>120</td>\n",
       "      <td>435.666667</td>\n",
       "      <td>0.000071</td>\n",
       "      <td>0.000071</td>\n",
       "      <td>4.857284e-08</td>\n",
       "      <td>18</td>\n",
       "      <td>email</td>\n",
       "      <td>0</td>\n",
       "    </tr>\n",
       "    <tr>\n",
       "      <th>1515915625996939291</th>\n",
       "      <td>5.0</td>\n",
       "      <td>2196.0</td>\n",
       "      <td>9</td>\n",
       "      <td>133.000000</td>\n",
       "      <td>0.000013</td>\n",
       "      <td>0.000002</td>\n",
       "      <td>1.122972e-05</td>\n",
       "      <td>5562</td>\n",
       "      <td>mobile_push</td>\n",
       "      <td>0</td>\n",
       "    </tr>\n",
       "    <tr>\n",
       "      <th>1515915625590564686</th>\n",
       "      <td>24.0</td>\n",
       "      <td>4027.0</td>\n",
       "      <td>6</td>\n",
       "      <td>458.000000</td>\n",
       "      <td>0.000026</td>\n",
       "      <td>0.000000</td>\n",
       "      <td>2.580700e-05</td>\n",
       "      <td>5562</td>\n",
       "      <td>mobile_push</td>\n",
       "      <td>0</td>\n",
       "    </tr>\n",
       "    <tr>\n",
       "      <th>1515915625468116350</th>\n",
       "      <td>1.0</td>\n",
       "      <td>999.0</td>\n",
       "      <td>9</td>\n",
       "      <td>588.000000</td>\n",
       "      <td>0.000042</td>\n",
       "      <td>0.000037</td>\n",
       "      <td>4.487956e-06</td>\n",
       "      <td>28</td>\n",
       "      <td>email</td>\n",
       "      <td>0</td>\n",
       "    </tr>\n",
       "    <tr>\n",
       "      <th>1515915625490457896</th>\n",
       "      <td>1.0</td>\n",
       "      <td>1799.0</td>\n",
       "      <td>20</td>\n",
       "      <td>534.000000</td>\n",
       "      <td>0.000062</td>\n",
       "      <td>0.000062</td>\n",
       "      <td>0.000000e+00</td>\n",
       "      <td>5562</td>\n",
       "      <td>email</td>\n",
       "      <td>0</td>\n",
       "    </tr>\n",
       "    <tr>\n",
       "      <th>1515915625488462874</th>\n",
       "      <td>2.0</td>\n",
       "      <td>1098.0</td>\n",
       "      <td>200</td>\n",
       "      <td>588.000000</td>\n",
       "      <td>0.000036</td>\n",
       "      <td>0.000027</td>\n",
       "      <td>8.630308e-06</td>\n",
       "      <td>28</td>\n",
       "      <td>mobile_push</td>\n",
       "      <td>0</td>\n",
       "    </tr>\n",
       "    <tr>\n",
       "      <th>1515915625491120262</th>\n",
       "      <td>2.0</td>\n",
       "      <td>21598.0</td>\n",
       "      <td>0</td>\n",
       "      <td>187.000000</td>\n",
       "      <td>0.000041</td>\n",
       "      <td>0.000041</td>\n",
       "      <td>0.000000e+00</td>\n",
       "      <td>5562</td>\n",
       "      <td>email</td>\n",
       "      <td>0</td>\n",
       "    </tr>\n",
       "  </tbody>\n",
       "</table>\n",
       "</div>"
      ],
      "text/plain": [
       "                     quantity  revenue  event  days_last_purchases  \\\n",
       "client_id                                                            \n",
       "1515915625501186777      10.0   7414.0     22           308.000000   \n",
       "1515915625545777517       1.0    799.0     65           611.000000   \n",
       "1515915625607215555       4.0  10376.0    224           209.000000   \n",
       "1515915625557689027       4.0   6896.0    120           435.666667   \n",
       "1515915625996939291       5.0   2196.0      9           133.000000   \n",
       "1515915625590564686      24.0   4027.0      6           458.000000   \n",
       "1515915625468116350       1.0    999.0      9           588.000000   \n",
       "1515915625490457896       1.0   1799.0     20           534.000000   \n",
       "1515915625488462874       2.0   1098.0    200           588.000000   \n",
       "1515915625491120262       2.0  21598.0      0           187.000000   \n",
       "\n",
       "                     conversion_purchase  conversion_purchase_email  \\\n",
       "client_id                                                             \n",
       "1515915625501186777             0.000024                   0.000021   \n",
       "1515915625545777517             0.000053                   0.000053   \n",
       "1515915625607215555             0.000094                   0.000094   \n",
       "1515915625557689027             0.000071                   0.000071   \n",
       "1515915625996939291             0.000013                   0.000002   \n",
       "1515915625590564686             0.000026                   0.000000   \n",
       "1515915625468116350             0.000042                   0.000037   \n",
       "1515915625490457896             0.000062                   0.000062   \n",
       "1515915625488462874             0.000036                   0.000027   \n",
       "1515915625491120262             0.000041                   0.000041   \n",
       "\n",
       "                     conversion_mobile_push category_ids_new      channel  \\\n",
       "client_id                                                                   \n",
       "1515915625501186777            2.845972e-06               18        email   \n",
       "1515915625545777517            0.000000e+00               18        email   \n",
       "1515915625607215555            0.000000e+00               28        email   \n",
       "1515915625557689027            4.857284e-08               18        email   \n",
       "1515915625996939291            1.122972e-05             5562  mobile_push   \n",
       "1515915625590564686            2.580700e-05             5562  mobile_push   \n",
       "1515915625468116350            4.487956e-06               28        email   \n",
       "1515915625490457896            0.000000e+00             5562        email   \n",
       "1515915625488462874            8.630308e-06               28  mobile_push   \n",
       "1515915625491120262            0.000000e+00             5562        email   \n",
       "\n",
       "                     target  \n",
       "client_id                    \n",
       "1515915625501186777       0  \n",
       "1515915625545777517       0  \n",
       "1515915625607215555       0  \n",
       "1515915625557689027       0  \n",
       "1515915625996939291       0  \n",
       "1515915625590564686       0  \n",
       "1515915625468116350       0  \n",
       "1515915625490457896       0  \n",
       "1515915625488462874       0  \n",
       "1515915625491120262       0  "
      ]
     },
     "execution_count": 50,
     "metadata": {},
     "output_type": "execute_result"
    }
   ],
   "source": [
    "data.sample(10)"
   ]
  },
  {
   "cell_type": "markdown",
   "metadata": {},
   "source": [
    "### Исследовательский анализ данных"
   ]
  },
  {
   "cell_type": "markdown",
   "metadata": {},
   "source": [
    "#### Функции для построения графиков"
   ]
  },
  {
   "cell_type": "markdown",
   "metadata": {},
   "source": [
    "Для более лаконичного проведения анализа создадим функции для построения графиков."
   ]
  },
  {
   "cell_type": "code",
   "execution_count": 51,
   "metadata": {},
   "outputs": [],
   "source": [
    "#графики для количественных данных\n",
    "\n",
    "def eda_number(data, column, plot_title, x_label, histcolor):\n",
    "    \n",
    "#построение гистограммы с медианой и средним\n",
    "    plt.figure(figsize=(10, 4))\n",
    "    bins = plt.hist(data[column], bins=50)\n",
    "    plt.hist(data[column], bins=50, color=histcolor)\n",
    "    plt.vlines(x=data[column].mean(), colors='blue', ymin=bins[0].min(), ymax=bins[0].max(), label='Среднее')\n",
    "    plt.vlines(x=data[column].median(), colors='red', ymin=bins[0].min(), ymax=bins[0].max(), linestyles='--', label='Медиана')\n",
    "    plt.legend()\n",
    "    plt.ylabel('Частота')\n",
    "    plt.title(plot_title)\n",
    "\n",
    "#ящик с усами \n",
    "    plt.figure(figsize=(10, 4))\n",
    "    plt.boxplot(data[column], vert=False)\n",
    "    plt.ylabel('Частота')\n",
    "    plt.xlabel(x_label)\n",
    "    \n",
    "    plt.show()\n",
    "    \n",
    "    display(data[column].describe())"
   ]
  },
  {
   "cell_type": "code",
   "execution_count": 52,
   "metadata": {},
   "outputs": [],
   "source": [
    "#графики для категориальных данных\n",
    "def eda_category(column, plot_title):\n",
    "\n",
    "\n",
    "    data_group = data[column].value_counts().sort_values(ascending=False).head(20)\n",
    "    data_group_1 = data_1[column].value_counts().sort_values(ascending=False).head(20)\n",
    "    data_group_2 = data_0[column].value_counts().sort_values(ascending=False).head(20)\n",
    "    \n",
    "    fig, axes = plt.subplots(1, 3, figsize=(15, 7), sharey=True)\n",
    "    \n",
    "    plt.title(plot_title)   \n",
    "\n",
    "\n",
    "    data_group.plot(\n",
    "            kind = 'bar',\n",
    "            ax=axes[0],\n",
    "            title = 'Все данные'\n",
    "           )    \n",
    "    data_group_1.plot(\n",
    "            kind = 'bar',\n",
    "            ax=axes[1],\n",
    "            title = 'Клиент купит'\n",
    "           ) \n",
    "    data_group_2.plot(\n",
    "            kind = 'bar',\n",
    "            ax=axes[2],\n",
    "            title = 'Клиент не купит'\n",
    "           )\n",
    "    plt.tight_layout(rect=[0, 0, 1, 0.96])\n",
    "    plt.show()"
   ]
  },
  {
   "cell_type": "markdown",
   "metadata": {},
   "source": [
    "#### Исследовательский анализ данных количественных признаков"
   ]
  },
  {
   "cell_type": "code",
   "execution_count": 53,
   "metadata": {},
   "outputs": [
    {
     "name": "stdout",
     "output_type": "stream",
     "text": [
      "['quantity', 'revenue', 'event', 'days_last_purchases', 'conversion_purchase', 'conversion_purchase_email', 'conversion_mobile_push', 'target']\n"
     ]
    }
   ],
   "source": [
    "print(data.select_dtypes(include=['number', 'datetime']).columns.tolist())"
   ]
  },
  {
   "cell_type": "markdown",
   "metadata": {},
   "source": [
    "Визуально проверим есть ли в данных выбросы."
   ]
  },
  {
   "cell_type": "code",
   "execution_count": 54,
   "metadata": {},
   "outputs": [
    {
     "data": {
      "image/png": "[encoded data removed]",
      "text/plain": [
       "<Figure size 1000x1000 with 9 Axes>"
      ]
     },
     "metadata": {},
     "output_type": "display_data"
    }
   ],
   "source": [
    "data.hist(figsize = (10, 10));"
   ]
  },
  {
   "cell_type": "code",
   "execution_count": 55,
   "metadata": {},
   "outputs": [
    {
     "data": {
      "image/png": "[encoded data removed]",
      "text/plain": [
       "<Figure size 1000x400 with 1 Axes>"
      ]
     },
     "metadata": {},
     "output_type": "display_data"
    },
    {
     "data": {
      "image/png": "[encoded data removed]",
      "text/plain": [
       "<Figure size 1000x400 with 1 Axes>"
      ]
     },
     "metadata": {},
     "output_type": "display_data"
    },
    {
     "data": {
      "text/plain": [
       "count    41981.000000\n",
       "mean         3.863510\n",
       "std          5.233286\n",
       "min          1.000000\n",
       "25%          1.000000\n",
       "50%          2.000000\n",
       "75%          4.000000\n",
       "max        218.000000\n",
       "Name: quantity, dtype: float64"
      ]
     },
     "metadata": {},
     "output_type": "display_data"
    },
    {
     "data": {
      "image/png": "[encoded data removed]",
      "text/plain": [
       "<Figure size 1000x400 with 1 Axes>"
      ]
     },
     "metadata": {},
     "output_type": "display_data"
    },
    {
     "data": {
      "image/png": "[encoded data removed]",
      "text/plain": [
       "<Figure size 1000x400 with 1 Axes>"
      ]
     },
     "metadata": {},
     "output_type": "display_data"
    },
    {
     "data": {
      "text/plain": [
       "count     41981.000000\n",
       "mean       4787.530025\n",
       "std        7153.610139\n",
       "min           1.000000\n",
       "25%        1499.000000\n",
       "50%        2860.000000\n",
       "75%        5598.000000\n",
       "max      540408.000000\n",
       "Name: revenue, dtype: float64"
      ]
     },
     "metadata": {},
     "output_type": "display_data"
    },
    {
     "data": {
      "image/png": "[encoded data removed]",
      "text/plain": [
       "<Figure size 1000x400 with 1 Axes>"
      ]
     },
     "metadata": {},
     "output_type": "display_data"
    },
    {
     "data": {
      "image/png": "[encoded data removed]",
      "text/plain": [
       "<Figure size 1000x400 with 1 Axes>"
      ]
     },
     "metadata": {},
     "output_type": "display_data"
    },
    {
     "data": {
      "text/plain": [
       "count    41981.000000\n",
       "mean        89.757867\n",
       "std        134.519470\n",
       "min          0.000000\n",
       "25%         12.000000\n",
       "50%         44.000000\n",
       "75%        122.000000\n",
       "max       4818.000000\n",
       "Name: event, dtype: float64"
      ]
     },
     "metadata": {},
     "output_type": "display_data"
    },
    {
     "data": {
      "image/png": "[encoded data removed]",
      "text/plain": [
       "<Figure size 1000x400 with 1 Axes>"
      ]
     },
     "metadata": {},
     "output_type": "display_data"
    },
    {
     "data": {
      "image/png": "[encoded data removed]",
      "text/plain": [
       "<Figure size 1000x400 with 1 Axes>"
      ]
     },
     "metadata": {},
     "output_type": "display_data"
    },
    {
     "data": {
      "text/plain": [
       "count    41981.000000\n",
       "mean       383.858122\n",
       "std        186.432628\n",
       "min          0.000000\n",
       "25%        248.000000\n",
       "50%        419.000000\n",
       "75%        561.000000\n",
       "max        641.000000\n",
       "Name: days_last_purchases, dtype: float64"
      ]
     },
     "metadata": {},
     "output_type": "display_data"
    }
   ],
   "source": [
    "eda_number(data, 'quantity', 'Распределение количества товара', 'Количество товара', 'orchid')\n",
    "eda_number(data, 'revenue', 'Распределение выручки', 'Выручка', 'orchid')\n",
    "eda_number(data, 'event', 'Распределение событий', 'Событие -/0/+', 'orchid')\n",
    "eda_number(data, 'days_last_purchases', 'Распределение дней без покупок', 'Количество дней', 'orchid')"
   ]
  },
  {
   "cell_type": "markdown",
   "metadata": {},
   "source": [
    "Выбросы в данных не обнаружены, мы исследуем сгруппированные данные, поэтому в количестве редкие значения это нормально . "
   ]
  },
  {
   "cell_type": "code",
   "execution_count": 56,
   "metadata": {},
   "outputs": [],
   "source": [
    "#разделим датасет на два по целевому признаку\n",
    "data_1 = data[data['target'] == 1]\n",
    "data_0 = data[data['target'] == 0]"
   ]
  },
  {
   "cell_type": "markdown",
   "metadata": {},
   "source": [
    "#### Исследовательский анализ данных категориальныхм признаков"
   ]
  },
  {
   "cell_type": "code",
   "execution_count": 57,
   "metadata": {},
   "outputs": [],
   "source": [
    "def eda_number_with_target(column, title, xlabel):\n",
    "    #делаем таблица со статистикой для data_train_1 и data_train_0 в одной таблице\n",
    "    desc_1 = data_1[column].describe()\n",
    "    desc_0 = data_0[column].describe()\n",
    "    combined_desc = pd.concat([desc_1, desc_0], axis=1)\n",
    "    combined_desc.columns = ['Купит', 'Не купит']\n",
    "    print(combined_desc)\n",
    "\n",
    "    #добавляем 2 гистограммы на один график\n",
    "    plt.hist(data_train_1[column], bins=50, alpha=0.3, label='operating', color='orchid')\n",
    "    plt.hist(data_train_0[column], bins=50, alpha=0.3, label='closed')\n",
    "    # Добавление подписей осей\n",
    "    plt.xlabel(xlabel)\n",
    "    plt.ylabel('Частота')\n",
    "    plt.title(title)\n",
    "    plt.legend()\n",
    "    plt.show()"
   ]
  },
  {
   "cell_type": "code",
   "execution_count": 58,
   "metadata": {},
   "outputs": [
    {
     "name": "stdout",
     "output_type": "stream",
     "text": [
      "['category_ids_new', 'channel']\n"
     ]
    }
   ],
   "source": [
    "print(data.select_dtypes(exclude=['number', 'datetime']).columns.tolist())"
   ]
  },
  {
   "cell_type": "code",
   "execution_count": 59,
   "metadata": {},
   "outputs": [
    {
     "data": {
      "image/png": "[encoded data removed]",
      "text/plain": [
       "<Figure size 1500x700 with 3 Axes>"
      ]
     },
     "metadata": {},
     "output_type": "display_data"
    },
    {
     "data": {
      "image/png": "[encoded data removed]",
      "text/plain": [
       "<Figure size 1500x700 with 3 Axes>"
      ]
     },
     "metadata": {},
     "output_type": "display_data"
    }
   ],
   "source": [
    "eda_category('category_ids_new', 'Распределение по категориям')\n",
    "eda_category('channel', 'Распределение по каналам')"
   ]
  },
  {
   "cell_type": "markdown",
   "metadata": {},
   "source": [
    "#### Корреляционный анализ признаков"
   ]
  },
  {
   "cell_type": "code",
   "execution_count": 60,
   "metadata": {
    "scrolled": true
   },
   "outputs": [
    {
     "data": {
      "image/png": "[encoded data removed]",
      "text/plain": [
       "<Figure size 1500x700 with 2 Axes>"
      ]
     },
     "metadata": {},
     "output_type": "display_data"
    }
   ],
   "source": [
    "num_columns=data.select_dtypes('number').columns.tolist()\n",
    "phik_overview = data.phik_matrix(interval_cols=num_columns)\n",
    "plot_correlation_matrix(phik_overview.values, x_labels=phik_overview.columns, \n",
    "                        y_labels=phik_overview.index, vmin=0, vmax=1, color_map='Blues', \n",
    "                        title=r'correlation $\\phi_K$', fontsize_factor=1, figsize=(15, 7)) \n",
    "plt.tight_layout()\n",
    "plt.show()"
   ]
  },
  {
   "cell_type": "raw",
   "metadata": {},
   "source": [
    "print('Корреляция между числовыми признаками')\n",
    "\n",
    "_ = sns.pairplot(data.select_dtypes('number'), height=1.5)"
   ]
  },
  {
   "cell_type": "code",
   "execution_count": 61,
   "metadata": {},
   "outputs": [],
   "source": [
    "# эксперимент - обучеие на наборе данных без конверсий не показал улучшений в метрике\n",
    "\n",
    "data = data.drop(columns=['conversion_purchase_email', 'conversion_mobile_push'])"
   ]
  },
  {
   "cell_type": "markdown",
   "metadata": {},
   "source": [
    "На данном этапе проведен исследовательский анализ данных.\n",
    "\n",
    "Были проверены все числовые и категориальные признаки, постороены гистраграммы и столбчатые диаграммы как по всем данным тренировочного датасета, так и в разрезе высокой и низкой удовлетворенности сотрудников.\n",
    "\n",
    "Аномалии и выбросы не выявлены.\n",
    "\n",
    "Все признаки слабо коррелируют с трагетом , но наибольшую зависимость показывают событие, количество купленного товара, количество дней без покупок.\n",
    "\n",
    "\n",
    "Мультиколлинеарность принято учитывать при корреляции признаков выше 0.9, такая сильная зависимость в данных есть между конверсиями. Удалим некоторые конверсии."
   ]
  },
  {
   "cell_type": "markdown",
   "metadata": {},
   "source": [
    "### Выводы по результатам шага"
   ]
  },
  {
   "cell_type": "markdown",
   "metadata": {},
   "source": [
    "## Обучение моделей"
   ]
  },
  {
   "cell_type": "markdown",
   "metadata": {},
   "source": [
    "### Подготовка данных к обучению"
   ]
  },
  {
   "cell_type": "code",
   "execution_count": 62,
   "metadata": {},
   "outputs": [
    {
     "name": "stdout",
     "output_type": "stream",
     "text": [
      "X_train (31485, 7)\n",
      "X_test (5248, 7)\n",
      "X_valid (5248, 7)\n",
      "y_train (31485,)\n",
      "y_test (5248,)\n",
      "y_valid (5248,)\n"
     ]
    }
   ],
   "source": [
    "#разобьем данные на тренировочные, валидационные и тестовые входные и целевой признаки\n",
    "X_train, X_temp, y_train, y_temp = train_test_split(\n",
    "        data.drop(['target'], axis=1),\n",
    "        data['target'],\n",
    "        stratify=data['target'],\n",
    "        test_size=TEST_SIZE,\n",
    "        random_state=RANDOM_STATE,   \n",
    "    )\n",
    "\n",
    "\n",
    "\n",
    "\n",
    "X_test, X_valid, y_test, y_valid = train_test_split(\n",
    "        X_temp,\n",
    "        y_temp,\n",
    "        test_size=0.5,\n",
    "        stratify=y_temp,\n",
    "        random_state=RANDOM_STATE,   \n",
    "    )\n",
    "# проверяем размерность выборок\n",
    "print('X_train', X_train.shape)\n",
    "print('X_test', X_test.shape)\n",
    "print('X_valid', X_valid.shape)\n",
    "print('y_train', y_train.shape)\n",
    "print('y_test', y_test.shape)\n",
    "print('y_valid', y_valid.shape)\n"
   ]
  },
  {
   "cell_type": "code",
   "execution_count": 63,
   "metadata": {},
   "outputs": [
    {
     "name": "stdout",
     "output_type": "stream",
     "text": [
      "Числовые колонки: ['quantity', 'revenue', 'event', 'days_last_purchases', 'conversion_purchase']\n",
      "Категориальные колонки: ['category_ids_new', 'channel']\n",
      "Целевая переменная: target\n"
     ]
    }
   ],
   "source": [
    "#разделим колонки на числовы и категориальные\n",
    "# создаем список числовых признаков\n",
    "\n",
    "num_columns = data.select_dtypes(include='number').drop(['target'], axis=1).columns.tolist()\n",
    "cat_columns = data.select_dtypes(exclude='number').columns.tolist()\n",
    "target = 'target'\n",
    "\n",
    "print('Числовые колонки:', num_columns)\n",
    "print('Категориальные колонки:', cat_columns)\n",
    "print('Целевая переменная:', target)"
   ]
  },
  {
   "cell_type": "markdown",
   "metadata": {},
   "source": [
    "Проанализируем время обучения, время предсказания и качество моделей. Создадим функцию для подсчета времени обучения, предсказания и для метрик. Для оценки качества модели используем метрику ROC-AUC."
   ]
  },
  {
   "cell_type": "code",
   "execution_count": 64,
   "metadata": {},
   "outputs": [],
   "source": [
    "def fit_predict_time(model, X_valid, y_valid):\n",
    "    \n",
    "    start_time = time.time()\n",
    "    model.fit(X_train, y_train)\n",
    "    end_time = time.time()\n",
    "    train_time = end_time - start_time\n",
    "    print(f\"Время обучения: {train_time:.4f} секунд\")\n",
    "    \n",
    "    # Измеряем время предсказания\n",
    "    start_time = time.time()\n",
    "    y_pred = model.predict(X_valid)\n",
    "    end_time = time.time()\n",
    "    prediction_time = end_time - start_time\n",
    "    print(f\"Время предсказания: {prediction_time:.4f} секунд\")\n",
    "\n",
    "    "
   ]
  },
  {
   "cell_type": "markdown",
   "metadata": {},
   "source": [
    "### Модели DecisionTreeClassifier, KNeighborsClassifier, LogisticRegression"
   ]
  },
  {
   "cell_type": "code",
   "execution_count": 65,
   "metadata": {},
   "outputs": [],
   "source": [
    "# создаём пайплайн для подготовки признаков из списка ohe_columns: OHE-кодирование\n",
    "ohe_pipe = Pipeline([   \n",
    "    ('simpleImputer_before_ohe', SimpleImputer(missing_values=np.nan, strategy='most_frequent')),\n",
    "    ('ohe', OneHotEncoder(sparse_output=False, drop='first', handle_unknown='ignore')),\n",
    "    ('simpleImputer_after_ohe', SimpleImputer(missing_values=np.nan, strategy='most_frequent'))\n",
    "])\n",
    "\n",
    "# Создаем пайплайн для подготовки признаков из списка num_columns\n",
    "# проводим масштабирование, Используем StandardScaler по умолчанию\n",
    "num_pipe = Pipeline([\n",
    "    ('scaler', StandardScaler())  \n",
    "])\n",
    "\n",
    "\n",
    "data_preprocessor = ColumnTransformer(\n",
    "        [\n",
    "            ('ohe', ohe_pipe, cat_columns),\n",
    "            ('num', num_pipe, num_columns)\n",
    "        ],\n",
    "        remainder='passthrough'\n",
    "    )\n"
   ]
  },
  {
   "cell_type": "code",
   "execution_count": 66,
   "metadata": {},
   "outputs": [
    {
     "name": "stderr",
     "output_type": "stream",
     "text": [
      "C:\\Users\\PC\\anaconda3\\Lib\\site-packages\\sklearn\\model_selection\\_validation.py:378: FitFailedWarning: \n",
      "5 fits failed out of a total of 50.\n",
      "The score on these train-test partitions for these parameters will be set to nan.\n",
      "If these failures are not expected, you can try to debug them by setting error_score='raise'.\n",
      "\n",
      "Below are more details about the failures:\n",
      "--------------------------------------------------------------------------------\n",
      "5 fits failed with the following error:\n",
      "Traceback (most recent call last):\n",
      "  File \"C:\\Users\\PC\\anaconda3\\Lib\\site-packages\\sklearn\\model_selection\\_validation.py\", line 686, in _fit_and_score\n",
      "    estimator.fit(X_train, y_train, **fit_params)\n",
      "  File \"C:\\Users\\PC\\anaconda3\\Lib\\site-packages\\imblearn\\pipeline.py\", line 297, in fit\n",
      "    self._final_estimator.fit(Xt, yt, **fit_params_last_step)\n",
      "  File \"C:\\Users\\PC\\anaconda3\\Lib\\site-packages\\sklearn\\tree\\_classes.py\", line 889, in fit\n",
      "    super().fit(\n",
      "  File \"C:\\Users\\PC\\anaconda3\\Lib\\site-packages\\sklearn\\tree\\_classes.py\", line 177, in fit\n",
      "    self._validate_params()\n",
      "  File \"C:\\Users\\PC\\anaconda3\\Lib\\site-packages\\sklearn\\base.py\", line 600, in _validate_params\n",
      "    validate_parameter_constraints(\n",
      "  File \"C:\\Users\\PC\\anaconda3\\Lib\\site-packages\\sklearn\\utils\\_param_validation.py\", line 97, in validate_parameter_constraints\n",
      "    raise InvalidParameterError(\n",
      "sklearn.utils._param_validation.InvalidParameterError: The 'min_samples_split' parameter of DecisionTreeClassifier must be an int in the range [2, inf) or a float in the range (0.0, 1.0]. Got 1 instead.\n",
      "\n",
      "  warnings.warn(some_fits_failed_message, FitFailedWarning)\n",
      "C:\\Users\\PC\\anaconda3\\Lib\\site-packages\\sklearn\\model_selection\\_search.py:952: UserWarning: One or more of the test scores are non-finite: [0.71526773 0.6101991  0.68488641 0.63241319 0.66912963 0.66536723\n",
      "        nan 0.65815961 0.6801743  0.53404607]\n",
      "  warnings.warn(\n"
     ]
    },
    {
     "data": {
      "text/html": [
       "<style>#sk-container-id-1 {color: black;background-color: white;}#sk-container-id-1 pre{padding: 0;}#sk-container-id-1 div.sk-toggleable {background-color: white;}#sk-container-id-1 label.sk-toggleable__label {cursor: pointer;display: block;width: 100%;margin-bottom: 0;padding: 0.3em;box-sizing: border-box;text-align: center;}#sk-container-id-1 label.sk-toggleable__label-arrow:before {content: \"▸\";float: left;margin-right: 0.25em;color: #696969;}#sk-container-id-1 label.sk-toggleable__label-arrow:hover:before {color: black;}#sk-container-id-1 div.sk-estimator:hover label.sk-toggleable__label-arrow:before {color: black;}#sk-container-id-1 div.sk-toggleable__content {max-height: 0;max-width: 0;overflow: hidden;text-align: left;background-color: #f0f8ff;}#sk-container-id-1 div.sk-toggleable__content pre {margin: 0.2em;color: black;border-radius: 0.25em;background-color: #f0f8ff;}#sk-container-id-1 input.sk-toggleable__control:checked~div.sk-toggleable__content {max-height: 200px;max-width: 100%;overflow: auto;}#sk-container-id-1 input.sk-toggleable__control:checked~label.sk-toggleable__label-arrow:before {content: \"▾\";}#sk-container-id-1 div.sk-estimator input.sk-toggleable__control:checked~label.sk-toggleable__label {background-color: #d4ebff;}#sk-container-id-1 div.sk-label input.sk-toggleable__control:checked~label.sk-toggleable__label {background-color: #d4ebff;}#sk-container-id-1 input.sk-hidden--visually {border: 0;clip: rect(1px 1px 1px 1px);clip: rect(1px, 1px, 1px, 1px);height: 1px;margin: -1px;overflow: hidden;padding: 0;position: absolute;width: 1px;}#sk-container-id-1 div.sk-estimator {font-family: monospace;background-color: #f0f8ff;border: 1px dotted black;border-radius: 0.25em;box-sizing: border-box;margin-bottom: 0.5em;}#sk-container-id-1 div.sk-estimator:hover {background-color: #d4ebff;}#sk-container-id-1 div.sk-parallel-item::after {content: \"\";width: 100%;border-bottom: 1px solid gray;flex-grow: 1;}#sk-container-id-1 div.sk-label:hover label.sk-toggleable__label {background-color: #d4ebff;}#sk-container-id-1 div.sk-serial::before {content: \"\";position: absolute;border-left: 1px solid gray;box-sizing: border-box;top: 0;bottom: 0;left: 50%;z-index: 0;}#sk-container-id-1 div.sk-serial {display: flex;flex-direction: column;align-items: center;background-color: white;padding-right: 0.2em;padding-left: 0.2em;position: relative;}#sk-container-id-1 div.sk-item {position: relative;z-index: 1;}#sk-container-id-1 div.sk-parallel {display: flex;align-items: stretch;justify-content: center;background-color: white;position: relative;}#sk-container-id-1 div.sk-item::before, #sk-container-id-1 div.sk-parallel-item::before {content: \"\";position: absolute;border-left: 1px solid gray;box-sizing: border-box;top: 0;bottom: 0;left: 50%;z-index: -1;}#sk-container-id-1 div.sk-parallel-item {display: flex;flex-direction: column;z-index: 1;position: relative;background-color: white;}#sk-container-id-1 div.sk-parallel-item:first-child::after {align-self: flex-end;width: 50%;}#sk-container-id-1 div.sk-parallel-item:last-child::after {align-self: flex-start;width: 50%;}#sk-container-id-1 div.sk-parallel-item:only-child::after {width: 0;}#sk-container-id-1 div.sk-dashed-wrapped {border: 1px dashed gray;margin: 0 0.4em 0.5em 0.4em;box-sizing: border-box;padding-bottom: 0.4em;background-color: white;}#sk-container-id-1 div.sk-label label {font-family: monospace;font-weight: bold;display: inline-block;line-height: 1.2em;}#sk-container-id-1 div.sk-label-container {text-align: center;}#sk-container-id-1 div.sk-container {/* jupyter's `normalize.less` sets `[hidden] { display: none; }` but bootstrap.min.css set `[hidden] { display: none !important; }` so we also need the `!important` here to be able to override the default hidden behavior on the sphinx rendered scikit-learn.org. See: https://github.com/scikit-learn/scikit-learn/issues/21755 */display: inline-block !important;position: relative;}#sk-container-id-1 div.sk-text-repr-fallback {display: none;}</style><div id=\"sk-container-id-1\" class=\"sk-top-container\"><div class=\"sk-text-repr-fallback\"><pre>RandomizedSearchCV(cv=5,\n",
       "                   estimator=Pipeline(steps=[(&#x27;preprocessor&#x27;,\n",
       "                                              ColumnTransformer(remainder=&#x27;passthrough&#x27;,\n",
       "                                                                transformers=[(&#x27;ohe&#x27;,\n",
       "                                                                               Pipeline(steps=[(&#x27;simpleImputer_before_ohe&#x27;,\n",
       "                                                                                                SimpleImputer(strategy=&#x27;most_frequent&#x27;)),\n",
       "                                                                                               (&#x27;ohe&#x27;,\n",
       "                                                                                                OneHotEncoder(drop=&#x27;first&#x27;,\n",
       "                                                                                                              handle_unknown=&#x27;ignore&#x27;,\n",
       "                                                                                                              sparse_output=False)),\n",
       "                                                                                               (&#x27;simpleImputer_after_ohe&#x27;,\n",
       "                                                                                                SimpleImputer(strategy=&#x27;most_...\n",
       "                                                                       &#x27;passthrough&#x27;]},\n",
       "                                        {&#x27;models&#x27;: [LogisticRegression(C=17,\n",
       "                                                                       class_weight=&#x27;balanced&#x27;,\n",
       "                                                                       penalty=&#x27;l1&#x27;,\n",
       "                                                                       random_state=77,\n",
       "                                                                       solver=&#x27;liblinear&#x27;)],\n",
       "                                         &#x27;models__C&#x27;: [0.01, 0.1, 10, 17],\n",
       "                                         &#x27;models__penalty&#x27;: [&#x27;l1&#x27;, &#x27;l2&#x27;],\n",
       "                                         &#x27;models__solver&#x27;: [&#x27;liblinear&#x27;,\n",
       "                                                            &#x27;lbfgs&#x27;],\n",
       "                                         &#x27;preprocessor__num__scaler&#x27;: [StandardScaler(),\n",
       "                                                                       MinMaxScaler(),\n",
       "                                                                       RobustScaler(),\n",
       "                                                                       &#x27;passthrough&#x27;]}],\n",
       "                   random_state=77, scoring=&#x27;roc_auc&#x27;)</pre><b>In a Jupyter environment, please rerun this cell to show the HTML representation or trust the notebook. <br />On GitHub, the HTML representation is unable to render, please try loading this page with nbviewer.org.</b></div><div class=\"sk-container\" hidden><div class=\"sk-item sk-dashed-wrapped\"><div class=\"sk-label-container\"><div class=\"sk-label sk-toggleable\"><input class=\"sk-toggleable__control sk-hidden--visually\" id=\"sk-estimator-id-1\" type=\"checkbox\" ><label for=\"sk-estimator-id-1\" class=\"sk-toggleable__label sk-toggleable__label-arrow\">RandomizedSearchCV</label><div class=\"sk-toggleable__content\"><pre>RandomizedSearchCV(cv=5,\n",
       "                   estimator=Pipeline(steps=[(&#x27;preprocessor&#x27;,\n",
       "                                              ColumnTransformer(remainder=&#x27;passthrough&#x27;,\n",
       "                                                                transformers=[(&#x27;ohe&#x27;,\n",
       "                                                                               Pipeline(steps=[(&#x27;simpleImputer_before_ohe&#x27;,\n",
       "                                                                                                SimpleImputer(strategy=&#x27;most_frequent&#x27;)),\n",
       "                                                                                               (&#x27;ohe&#x27;,\n",
       "                                                                                                OneHotEncoder(drop=&#x27;first&#x27;,\n",
       "                                                                                                              handle_unknown=&#x27;ignore&#x27;,\n",
       "                                                                                                              sparse_output=False)),\n",
       "                                                                                               (&#x27;simpleImputer_after_ohe&#x27;,\n",
       "                                                                                                SimpleImputer(strategy=&#x27;most_...\n",
       "                                                                       &#x27;passthrough&#x27;]},\n",
       "                                        {&#x27;models&#x27;: [LogisticRegression(C=17,\n",
       "                                                                       class_weight=&#x27;balanced&#x27;,\n",
       "                                                                       penalty=&#x27;l1&#x27;,\n",
       "                                                                       random_state=77,\n",
       "                                                                       solver=&#x27;liblinear&#x27;)],\n",
       "                                         &#x27;models__C&#x27;: [0.01, 0.1, 10, 17],\n",
       "                                         &#x27;models__penalty&#x27;: [&#x27;l1&#x27;, &#x27;l2&#x27;],\n",
       "                                         &#x27;models__solver&#x27;: [&#x27;liblinear&#x27;,\n",
       "                                                            &#x27;lbfgs&#x27;],\n",
       "                                         &#x27;preprocessor__num__scaler&#x27;: [StandardScaler(),\n",
       "                                                                       MinMaxScaler(),\n",
       "                                                                       RobustScaler(),\n",
       "                                                                       &#x27;passthrough&#x27;]}],\n",
       "                   random_state=77, scoring=&#x27;roc_auc&#x27;)</pre></div></div></div><div class=\"sk-parallel\"><div class=\"sk-parallel-item\"><div class=\"sk-item\"><div class=\"sk-label-container\"><div class=\"sk-label sk-toggleable\"><input class=\"sk-toggleable__control sk-hidden--visually\" id=\"sk-estimator-id-2\" type=\"checkbox\" ><label for=\"sk-estimator-id-2\" class=\"sk-toggleable__label sk-toggleable__label-arrow\">estimator: Pipeline</label><div class=\"sk-toggleable__content\"><pre>Pipeline(steps=[(&#x27;preprocessor&#x27;,\n",
       "                 ColumnTransformer(remainder=&#x27;passthrough&#x27;,\n",
       "                                   transformers=[(&#x27;ohe&#x27;,\n",
       "                                                  Pipeline(steps=[(&#x27;simpleImputer_before_ohe&#x27;,\n",
       "                                                                   SimpleImputer(strategy=&#x27;most_frequent&#x27;)),\n",
       "                                                                  (&#x27;ohe&#x27;,\n",
       "                                                                   OneHotEncoder(drop=&#x27;first&#x27;,\n",
       "                                                                                 handle_unknown=&#x27;ignore&#x27;,\n",
       "                                                                                 sparse_output=False)),\n",
       "                                                                  (&#x27;simpleImputer_after_ohe&#x27;,\n",
       "                                                                   SimpleImputer(strategy=&#x27;most_frequent&#x27;))]),\n",
       "                                                  [&#x27;category_ids_new&#x27;,\n",
       "                                                   &#x27;channel&#x27;]),\n",
       "                                                 (&#x27;num&#x27;,\n",
       "                                                  Pipeline(steps=[(&#x27;scaler&#x27;,\n",
       "                                                                   StandardScaler())]),\n",
       "                                                  [&#x27;quantity&#x27;, &#x27;revenue&#x27;,\n",
       "                                                   &#x27;event&#x27;,\n",
       "                                                   &#x27;days_last_purchases&#x27;,\n",
       "                                                   &#x27;conversion_purchase&#x27;])])),\n",
       "                (&#x27;smote&#x27;, SMOTE(random_state=77, sampling_strategy=0.2)),\n",
       "                (&#x27;models&#x27;, KNeighborsClassifier())])</pre></div></div></div><div class=\"sk-serial\"><div class=\"sk-item\"><div class=\"sk-serial\"><div class=\"sk-item sk-dashed-wrapped\"><div class=\"sk-label-container\"><div class=\"sk-label sk-toggleable\"><input class=\"sk-toggleable__control sk-hidden--visually\" id=\"sk-estimator-id-3\" type=\"checkbox\" ><label for=\"sk-estimator-id-3\" class=\"sk-toggleable__label sk-toggleable__label-arrow\">preprocessor: ColumnTransformer</label><div class=\"sk-toggleable__content\"><pre>ColumnTransformer(remainder=&#x27;passthrough&#x27;,\n",
       "                  transformers=[(&#x27;ohe&#x27;,\n",
       "                                 Pipeline(steps=[(&#x27;simpleImputer_before_ohe&#x27;,\n",
       "                                                  SimpleImputer(strategy=&#x27;most_frequent&#x27;)),\n",
       "                                                 (&#x27;ohe&#x27;,\n",
       "                                                  OneHotEncoder(drop=&#x27;first&#x27;,\n",
       "                                                                handle_unknown=&#x27;ignore&#x27;,\n",
       "                                                                sparse_output=False)),\n",
       "                                                 (&#x27;simpleImputer_after_ohe&#x27;,\n",
       "                                                  SimpleImputer(strategy=&#x27;most_frequent&#x27;))]),\n",
       "                                 [&#x27;category_ids_new&#x27;, &#x27;channel&#x27;]),\n",
       "                                (&#x27;num&#x27;,\n",
       "                                 Pipeline(steps=[(&#x27;scaler&#x27;, StandardScaler())]),\n",
       "                                 [&#x27;quantity&#x27;, &#x27;revenue&#x27;, &#x27;event&#x27;,\n",
       "                                  &#x27;days_last_purchases&#x27;,\n",
       "                                  &#x27;conversion_purchase&#x27;])])</pre></div></div></div><div class=\"sk-parallel\"><div class=\"sk-parallel-item\"><div class=\"sk-item\"><div class=\"sk-label-container\"><div class=\"sk-label sk-toggleable\"><input class=\"sk-toggleable__control sk-hidden--visually\" id=\"sk-estimator-id-4\" type=\"checkbox\" ><label for=\"sk-estimator-id-4\" class=\"sk-toggleable__label sk-toggleable__label-arrow\">ohe</label><div class=\"sk-toggleable__content\"><pre>[&#x27;category_ids_new&#x27;, &#x27;channel&#x27;]</pre></div></div></div><div class=\"sk-serial\"><div class=\"sk-item\"><div class=\"sk-serial\"><div class=\"sk-item\"><div class=\"sk-estimator sk-toggleable\"><input class=\"sk-toggleable__control sk-hidden--visually\" id=\"sk-estimator-id-5\" type=\"checkbox\" ><label for=\"sk-estimator-id-5\" class=\"sk-toggleable__label sk-toggleable__label-arrow\">SimpleImputer</label><div class=\"sk-toggleable__content\"><pre>SimpleImputer(strategy=&#x27;most_frequent&#x27;)</pre></div></div></div><div class=\"sk-item\"><div class=\"sk-estimator sk-toggleable\"><input class=\"sk-toggleable__control sk-hidden--visually\" id=\"sk-estimator-id-6\" type=\"checkbox\" ><label for=\"sk-estimator-id-6\" class=\"sk-toggleable__label sk-toggleable__label-arrow\">OneHotEncoder</label><div class=\"sk-toggleable__content\"><pre>OneHotEncoder(drop=&#x27;first&#x27;, handle_unknown=&#x27;ignore&#x27;, sparse_output=False)</pre></div></div></div><div class=\"sk-item\"><div class=\"sk-estimator sk-toggleable\"><input class=\"sk-toggleable__control sk-hidden--visually\" id=\"sk-estimator-id-7\" type=\"checkbox\" ><label for=\"sk-estimator-id-7\" class=\"sk-toggleable__label sk-toggleable__label-arrow\">SimpleImputer</label><div class=\"sk-toggleable__content\"><pre>SimpleImputer(strategy=&#x27;most_frequent&#x27;)</pre></div></div></div></div></div></div></div></div><div class=\"sk-parallel-item\"><div class=\"sk-item\"><div class=\"sk-label-container\"><div class=\"sk-label sk-toggleable\"><input class=\"sk-toggleable__control sk-hidden--visually\" id=\"sk-estimator-id-8\" type=\"checkbox\" ><label for=\"sk-estimator-id-8\" class=\"sk-toggleable__label sk-toggleable__label-arrow\">num</label><div class=\"sk-toggleable__content\"><pre>[&#x27;quantity&#x27;, &#x27;revenue&#x27;, &#x27;event&#x27;, &#x27;days_last_purchases&#x27;, &#x27;conversion_purchase&#x27;]</pre></div></div></div><div class=\"sk-serial\"><div class=\"sk-item\"><div class=\"sk-serial\"><div class=\"sk-item\"><div class=\"sk-estimator sk-toggleable\"><input class=\"sk-toggleable__control sk-hidden--visually\" id=\"sk-estimator-id-9\" type=\"checkbox\" ><label for=\"sk-estimator-id-9\" class=\"sk-toggleable__label sk-toggleable__label-arrow\">StandardScaler</label><div class=\"sk-toggleable__content\"><pre>StandardScaler()</pre></div></div></div></div></div></div></div></div><div class=\"sk-parallel-item\"><div class=\"sk-item\"><div class=\"sk-label-container\"><div class=\"sk-label sk-toggleable\"><input class=\"sk-toggleable__control sk-hidden--visually\" id=\"sk-estimator-id-10\" type=\"checkbox\" ><label for=\"sk-estimator-id-10\" class=\"sk-toggleable__label sk-toggleable__label-arrow\">remainder</label><div class=\"sk-toggleable__content\"><pre></pre></div></div></div><div class=\"sk-serial\"><div class=\"sk-item\"><div class=\"sk-estimator sk-toggleable\"><input class=\"sk-toggleable__control sk-hidden--visually\" id=\"sk-estimator-id-11\" type=\"checkbox\" ><label for=\"sk-estimator-id-11\" class=\"sk-toggleable__label sk-toggleable__label-arrow\">passthrough</label><div class=\"sk-toggleable__content\"><pre>passthrough</pre></div></div></div></div></div></div></div></div><div class=\"sk-item\"><div class=\"sk-estimator sk-toggleable\"><input class=\"sk-toggleable__control sk-hidden--visually\" id=\"sk-estimator-id-12\" type=\"checkbox\" ><label for=\"sk-estimator-id-12\" class=\"sk-toggleable__label sk-toggleable__label-arrow\">SMOTE</label><div class=\"sk-toggleable__content\"><pre>SMOTE(random_state=77, sampling_strategy=0.2)</pre></div></div></div><div class=\"sk-item\"><div class=\"sk-estimator sk-toggleable\"><input class=\"sk-toggleable__control sk-hidden--visually\" id=\"sk-estimator-id-13\" type=\"checkbox\" ><label for=\"sk-estimator-id-13\" class=\"sk-toggleable__label sk-toggleable__label-arrow\">KNeighborsClassifier</label><div class=\"sk-toggleable__content\"><pre>KNeighborsClassifier()</pre></div></div></div></div></div></div></div></div></div></div></div></div>"
      ],
      "text/plain": [
       "RandomizedSearchCV(cv=5,\n",
       "                   estimator=Pipeline(steps=[('preprocessor',\n",
       "                                              ColumnTransformer(remainder='passthrough',\n",
       "                                                                transformers=[('ohe',\n",
       "                                                                               Pipeline(steps=[('simpleImputer_before_ohe',\n",
       "                                                                                                SimpleImputer(strategy='most_frequent')),\n",
       "                                                                                               ('ohe',\n",
       "                                                                                                OneHotEncoder(drop='first',\n",
       "                                                                                                              handle_unknown='ignore',\n",
       "                                                                                                              sparse_output=False)),\n",
       "                                                                                               ('simpleImputer_after_ohe',\n",
       "                                                                                                SimpleImputer(strategy='most_...\n",
       "                                                                       'passthrough']},\n",
       "                                        {'models': [LogisticRegression(C=17,\n",
       "                                                                       class_weight='balanced',\n",
       "                                                                       penalty='l1',\n",
       "                                                                       random_state=77,\n",
       "                                                                       solver='liblinear')],\n",
       "                                         'models__C': [0.01, 0.1, 10, 17],\n",
       "                                         'models__penalty': ['l1', 'l2'],\n",
       "                                         'models__solver': ['liblinear',\n",
       "                                                            'lbfgs'],\n",
       "                                         'preprocessor__num__scaler': [StandardScaler(),\n",
       "                                                                       MinMaxScaler(),\n",
       "                                                                       RobustScaler(),\n",
       "                                                                       'passthrough']}],\n",
       "                   random_state=77, scoring='roc_auc')"
      ]
     },
     "execution_count": 66,
     "metadata": {},
     "output_type": "execute_result"
    }
   ],
   "source": [
    "pipe_final = Pipeline([\n",
    "    ('preprocessor', data_preprocessor),\n",
    "    ('smote', SMOTE(random_state=RANDOM_STATE, sampling_strategy=0.2)),\n",
    "    ('models', KNeighborsClassifier())\n",
    "])\n",
    "\n",
    "param_distributions = [\n",
    "   #словарь для модели DecisionTreeClassifier\n",
    "   \n",
    "    {\n",
    "        'models': [DecisionTreeClassifier(random_state=RANDOM_STATE, class_weight='balanced')],\n",
    "        'models__max_depth': range(1, 15),\n",
    "        'models__max_features': range(1, 12),\n",
    "        'models__min_samples_split': range(1, 12),\n",
    "        'preprocessor__num__scaler': [StandardScaler(), MinMaxScaler(), RobustScaler(), 'passthrough'] \n",
    "   },\n",
    "    \n",
    "    # словарь для модели KNeighborsClassifier()\n",
    "    {\n",
    "        'models': [KNeighborsClassifier()],\n",
    "        'models__n_neighbors': range(2, 13),\n",
    "        'preprocessor__num__scaler': [StandardScaler(), MinMaxScaler(), RobustScaler(), 'passthrough'] #указываем только название скейлера  \n",
    "    },\n",
    "    \n",
    "    #словарь для модели LogisticRegression\n",
    "    {\n",
    "        'models': [LogisticRegression(random_state=RANDOM_STATE, class_weight='balanced')],\n",
    "        'models__C': [0.01, 0.1, 10, 17],\n",
    "        'models__penalty': ['l1', 'l2'],\n",
    "        'models__solver': ['liblinear', 'lbfgs'],\n",
    "        'preprocessor__num__scaler': [StandardScaler(), MinMaxScaler(), RobustScaler(), 'passthrough']\n",
    "    } \n",
    "]\n",
    "\n",
    "#перебор вариантов масштабирования и  гипермараметров модели\n",
    "\n",
    "\n",
    "randomized_search = RandomizedSearchCV(\n",
    "    pipe_final,\n",
    "    param_distributions,\n",
    "    cv=5,\n",
    "    scoring='roc_auc',\n",
    "    random_state=RANDOM_STATE,\n",
    "    n_jobs=-1,\n",
    "\n",
    ")\n",
    "\n",
    "randomized_search.fit(X_train, y_train)"
   ]
  },
  {
   "cell_type": "code",
   "execution_count": 67,
   "metadata": {},
   "outputs": [
    {
     "name": "stdout",
     "output_type": "stream",
     "text": [
      "Лучшая модель и её параметры:\n",
      "\n",
      " Pipeline(steps=[('preprocessor',\n",
      "                 ColumnTransformer(remainder='passthrough',\n",
      "                                   transformers=[('ohe',\n",
      "                                                  Pipeline(steps=[('simpleImputer_before_ohe',\n",
      "                                                                   SimpleImputer(strategy='most_frequent')),\n",
      "                                                                  ('ohe',\n",
      "                                                                   OneHotEncoder(drop='first',\n",
      "                                                                                 handle_unknown='ignore',\n",
      "                                                                                 sparse_output=False)),\n",
      "                                                                  ('simpleImputer_after_ohe',\n",
      "                                                                   SimpleImputer(strategy='most_frequent'))]),\n",
      "                                                  ['category_ids_new',\n",
      "                                                   'channel']),\n",
      "                                                 ('num',\n",
      "                                                  Pipeline(steps=[('scaler',\n",
      "                                                                   'passthrough')]),\n",
      "                                                  ['quantity', 'revenue',\n",
      "                                                   'event',\n",
      "                                                   'days_last_purchases',\n",
      "                                                   'conversion_purchase'])])),\n",
      "                ('smote', SMOTE(random_state=77, sampling_strategy=0.2)),\n",
      "                ('models',\n",
      "                 LogisticRegression(C=17, class_weight='balanced', penalty='l1',\n",
      "                                    random_state=77, solver='liblinear'))])\n",
      "Лучший скейлер: passthrough\n",
      "ROC-AUC  на тренировочной выборке: 0.7152677277375907\n",
      "F1 на валидационной выборке: 0.07339449541284403\n",
      "ROC-AUC на валидационной выборке: 0.7113339644657757\n",
      "Время обучения: 0.3565 секунд\n",
      "Время предсказания: 0.0110 секунд\n",
      "Precision на валидационной выборке: 0.03924133420536298\n",
      "Recall на валидационной выборке: 0.5660377358490566\n"
     ]
    },
    {
     "data": {
      "text/html": [
       "<div>\n",
       "<style scoped>\n",
       "    .dataframe tbody tr th:only-of-type {\n",
       "        vertical-align: middle;\n",
       "    }\n",
       "\n",
       "    .dataframe tbody tr th {\n",
       "        vertical-align: top;\n",
       "    }\n",
       "\n",
       "    .dataframe thead th {\n",
       "        text-align: right;\n",
       "    }\n",
       "</style>\n",
       "<table border=\"1\" class=\"dataframe\">\n",
       "  <thead>\n",
       "    <tr style=\"text-align: right;\">\n",
       "      <th></th>\n",
       "      <th>Pred 0</th>\n",
       "      <th>Pred 1</th>\n",
       "    </tr>\n",
       "  </thead>\n",
       "  <tbody>\n",
       "    <tr>\n",
       "      <th>True 0</th>\n",
       "      <td>3673</td>\n",
       "      <td>1469</td>\n",
       "    </tr>\n",
       "    <tr>\n",
       "      <th>True 1</th>\n",
       "      <td>46</td>\n",
       "      <td>60</td>\n",
       "    </tr>\n",
       "  </tbody>\n",
       "</table>\n",
       "</div>"
      ],
      "text/plain": [
       "        Pred 0  Pred 1\n",
       "True 0    3673    1469\n",
       "True 1      46      60"
      ]
     },
     "execution_count": 67,
     "metadata": {},
     "output_type": "execute_result"
    }
   ],
   "source": [
    "y_pred = randomized_search.predict(X_valid)\n",
    "y_pred_proba = randomized_search.predict_proba(X_valid)[:, 1]\n",
    "\n",
    "print('Лучшая модель и её параметры:\\n\\n', randomized_search.best_estimator_)\n",
    "print('Лучший скейлер:', randomized_search.best_params_['preprocessor__num__scaler'])\n",
    "print('ROC-AUC  на тренировочной выборке:', randomized_search.best_score_)\n",
    "print('F1 на валидационной выборке:', f1_score(y_valid, y_pred))\n",
    "print('ROC-AUC на валидационной выборке:', roc_auc_score(y_valid, y_pred_proba))\n",
    "fit_predict_time(randomized_search.best_estimator_, X_valid, y_valid)\n",
    "print('Precision на валидационной выборке:', precision_score(y_valid, y_pred))\n",
    "print('Recall на валидационной выборке:', recall_score(y_valid, y_pred))\n",
    "cm = confusion_matrix(y_valid, y_pred)\n",
    "cm_df = pd.DataFrame(cm, index=['True 0', 'True 1'], columns=['Pred 0', 'Pred 1'])\n",
    "cm_df"
   ]
  },
  {
   "cell_type": "markdown",
   "metadata": {},
   "source": [
    "### Модель CatBoost"
   ]
  },
  {
   "cell_type": "code",
   "execution_count": 68,
   "metadata": {},
   "outputs": [
    {
     "data": {
      "text/html": [
       "<style>#sk-container-id-2 {color: black;background-color: white;}#sk-container-id-2 pre{padding: 0;}#sk-container-id-2 div.sk-toggleable {background-color: white;}#sk-container-id-2 label.sk-toggleable__label {cursor: pointer;display: block;width: 100%;margin-bottom: 0;padding: 0.3em;box-sizing: border-box;text-align: center;}#sk-container-id-2 label.sk-toggleable__label-arrow:before {content: \"▸\";float: left;margin-right: 0.25em;color: #696969;}#sk-container-id-2 label.sk-toggleable__label-arrow:hover:before {color: black;}#sk-container-id-2 div.sk-estimator:hover label.sk-toggleable__label-arrow:before {color: black;}#sk-container-id-2 div.sk-toggleable__content {max-height: 0;max-width: 0;overflow: hidden;text-align: left;background-color: #f0f8ff;}#sk-container-id-2 div.sk-toggleable__content pre {margin: 0.2em;color: black;border-radius: 0.25em;background-color: #f0f8ff;}#sk-container-id-2 input.sk-toggleable__control:checked~div.sk-toggleable__content {max-height: 200px;max-width: 100%;overflow: auto;}#sk-container-id-2 input.sk-toggleable__control:checked~label.sk-toggleable__label-arrow:before {content: \"▾\";}#sk-container-id-2 div.sk-estimator input.sk-toggleable__control:checked~label.sk-toggleable__label {background-color: #d4ebff;}#sk-container-id-2 div.sk-label input.sk-toggleable__control:checked~label.sk-toggleable__label {background-color: #d4ebff;}#sk-container-id-2 input.sk-hidden--visually {border: 0;clip: rect(1px 1px 1px 1px);clip: rect(1px, 1px, 1px, 1px);height: 1px;margin: -1px;overflow: hidden;padding: 0;position: absolute;width: 1px;}#sk-container-id-2 div.sk-estimator {font-family: monospace;background-color: #f0f8ff;border: 1px dotted black;border-radius: 0.25em;box-sizing: border-box;margin-bottom: 0.5em;}#sk-container-id-2 div.sk-estimator:hover {background-color: #d4ebff;}#sk-container-id-2 div.sk-parallel-item::after {content: \"\";width: 100%;border-bottom: 1px solid gray;flex-grow: 1;}#sk-container-id-2 div.sk-label:hover label.sk-toggleable__label {background-color: #d4ebff;}#sk-container-id-2 div.sk-serial::before {content: \"\";position: absolute;border-left: 1px solid gray;box-sizing: border-box;top: 0;bottom: 0;left: 50%;z-index: 0;}#sk-container-id-2 div.sk-serial {display: flex;flex-direction: column;align-items: center;background-color: white;padding-right: 0.2em;padding-left: 0.2em;position: relative;}#sk-container-id-2 div.sk-item {position: relative;z-index: 1;}#sk-container-id-2 div.sk-parallel {display: flex;align-items: stretch;justify-content: center;background-color: white;position: relative;}#sk-container-id-2 div.sk-item::before, #sk-container-id-2 div.sk-parallel-item::before {content: \"\";position: absolute;border-left: 1px solid gray;box-sizing: border-box;top: 0;bottom: 0;left: 50%;z-index: -1;}#sk-container-id-2 div.sk-parallel-item {display: flex;flex-direction: column;z-index: 1;position: relative;background-color: white;}#sk-container-id-2 div.sk-parallel-item:first-child::after {align-self: flex-end;width: 50%;}#sk-container-id-2 div.sk-parallel-item:last-child::after {align-self: flex-start;width: 50%;}#sk-container-id-2 div.sk-parallel-item:only-child::after {width: 0;}#sk-container-id-2 div.sk-dashed-wrapped {border: 1px dashed gray;margin: 0 0.4em 0.5em 0.4em;box-sizing: border-box;padding-bottom: 0.4em;background-color: white;}#sk-container-id-2 div.sk-label label {font-family: monospace;font-weight: bold;display: inline-block;line-height: 1.2em;}#sk-container-id-2 div.sk-label-container {text-align: center;}#sk-container-id-2 div.sk-container {/* jupyter's `normalize.less` sets `[hidden] { display: none; }` but bootstrap.min.css set `[hidden] { display: none !important; }` so we also need the `!important` here to be able to override the default hidden behavior on the sphinx rendered scikit-learn.org. See: https://github.com/scikit-learn/scikit-learn/issues/21755 */display: inline-block !important;position: relative;}#sk-container-id-2 div.sk-text-repr-fallback {display: none;}</style><div id=\"sk-container-id-2\" class=\"sk-top-container\"><div class=\"sk-text-repr-fallback\"><pre>RandomizedSearchCV(cv=3,\n",
       "                   estimator=&lt;catboost.core.CatBoostClassifier object at 0x000002CB8A84C750&gt;,\n",
       "                   n_jobs=-1,\n",
       "                   param_distributions={&#x27;depth&#x27;: array([5, 6, 5, 5, 5, 6, 6, 6, 7, 5, 7, 4]),\n",
       "                                        &#x27;learning_rate&#x27;: array([0.0760711 , 0.08526999, 0.05315879])},\n",
       "                   random_state=77, scoring=&#x27;roc_auc&#x27;)</pre><b>In a Jupyter environment, please rerun this cell to show the HTML representation or trust the notebook. <br />On GitHub, the HTML representation is unable to render, please try loading this page with nbviewer.org.</b></div><div class=\"sk-container\" hidden><div class=\"sk-item sk-dashed-wrapped\"><div class=\"sk-label-container\"><div class=\"sk-label sk-toggleable\"><input class=\"sk-toggleable__control sk-hidden--visually\" id=\"sk-estimator-id-14\" type=\"checkbox\" ><label for=\"sk-estimator-id-14\" class=\"sk-toggleable__label sk-toggleable__label-arrow\">RandomizedSearchCV</label><div class=\"sk-toggleable__content\"><pre>RandomizedSearchCV(cv=3,\n",
       "                   estimator=&lt;catboost.core.CatBoostClassifier object at 0x000002CB8A84C750&gt;,\n",
       "                   n_jobs=-1,\n",
       "                   param_distributions={&#x27;depth&#x27;: array([5, 6, 5, 5, 5, 6, 6, 6, 7, 5, 7, 4]),\n",
       "                                        &#x27;learning_rate&#x27;: array([0.0760711 , 0.08526999, 0.05315879])},\n",
       "                   random_state=77, scoring=&#x27;roc_auc&#x27;)</pre></div></div></div><div class=\"sk-parallel\"><div class=\"sk-parallel-item\"><div class=\"sk-item\"><div class=\"sk-label-container\"><div class=\"sk-label sk-toggleable\"><input class=\"sk-toggleable__control sk-hidden--visually\" id=\"sk-estimator-id-15\" type=\"checkbox\" ><label for=\"sk-estimator-id-15\" class=\"sk-toggleable__label sk-toggleable__label-arrow\">estimator: CatBoostClassifier</label><div class=\"sk-toggleable__content\"><pre>&lt;catboost.core.CatBoostClassifier object at 0x000002CB8A84C750&gt;</pre></div></div></div><div class=\"sk-serial\"><div class=\"sk-item\"><div class=\"sk-estimator sk-toggleable\"><input class=\"sk-toggleable__control sk-hidden--visually\" id=\"sk-estimator-id-16\" type=\"checkbox\" ><label for=\"sk-estimator-id-16\" class=\"sk-toggleable__label sk-toggleable__label-arrow\">CatBoostClassifier</label><div class=\"sk-toggleable__content\"><pre>&lt;catboost.core.CatBoostClassifier object at 0x000002CB8A84C750&gt;</pre></div></div></div></div></div></div></div></div></div></div>"
      ],
      "text/plain": [
       "RandomizedSearchCV(cv=3,\n",
       "                   estimator=<catboost.core.CatBoostClassifier object at 0x000002CB8A84C750>,\n",
       "                   n_jobs=-1,\n",
       "                   param_distributions={'depth': array([5, 6, 5, 5, 5, 6, 6, 6, 7, 5, 7, 4]),\n",
       "                                        'learning_rate': array([0.0760711 , 0.08526999, 0.05315879])},\n",
       "                   random_state=77, scoring='roc_auc')"
      ]
     },
     "execution_count": 68,
     "metadata": {},
     "output_type": "execute_result"
    }
   ],
   "source": [
    "cbr_model = CatBoostClassifier(cat_features = cat_columns, \n",
    "                              iterations=100,\n",
    "                              verbose=0, \n",
    "                              random_seed=RANDOM_STATE,\n",
    "                              #early_stopping_rounds=18,\n",
    "                              auto_class_weights='Balanced'\n",
    "                              )\n",
    "\n",
    "#Проверка и преобразование типов\n",
    "for col in cat_columns:\n",
    "    X_train[col] = X_train[col].astype('category') \n",
    "\n",
    "\n",
    "# Сетка гиперпараметров для RandomizedSearchCV\n",
    "param_distributions = {  \n",
    "    'learning_rate': np.random.uniform(0.05, 0.1, 3),  \n",
    "    'depth': np.random.randint(4, 8, 12)\n",
    "}\n",
    "\n",
    "randomized_search_cbr = RandomizedSearchCV(\n",
    "    estimator=cbr_model,\n",
    "    param_distributions=param_distributions,\n",
    "    cv=3,\n",
    "    scoring='roc_auc',\n",
    "    random_state=RANDOM_STATE,\n",
    "    n_jobs=-1\n",
    ")\n",
    "\n",
    "# Обучаем модель\n",
    "randomized_search_cbr.fit(X_train, y_train)"
   ]
  },
  {
   "cell_type": "code",
   "execution_count": 69,
   "metadata": {},
   "outputs": [
    {
     "name": "stdout",
     "output_type": "stream",
     "text": [
      "Лучшая модель и её параметры:\n",
      "\n",
      " <catboost.core.CatBoostClassifier object at 0x000002CB8A83D610>\n",
      "ROC-AUC  на тренировочной выборке: 0.7420595236510431\n",
      "F1 на валидационной выборке: 0.08118081180811809\n",
      "ROC-AUC на валидационной выборке: 0.7240098192466039\n",
      "Precision на валидационной выборке: 0.04342105263157895\n",
      "Recall на валидационной выборке: 0.6226415094339622\n",
      "Время обучения: 2.7698 секунд\n",
      "Время предсказания: 0.0140 секунд\n"
     ]
    },
    {
     "data": {
      "text/html": [
       "<div>\n",
       "<style scoped>\n",
       "    .dataframe tbody tr th:only-of-type {\n",
       "        vertical-align: middle;\n",
       "    }\n",
       "\n",
       "    .dataframe tbody tr th {\n",
       "        vertical-align: top;\n",
       "    }\n",
       "\n",
       "    .dataframe thead th {\n",
       "        text-align: right;\n",
       "    }\n",
       "</style>\n",
       "<table border=\"1\" class=\"dataframe\">\n",
       "  <thead>\n",
       "    <tr style=\"text-align: right;\">\n",
       "      <th></th>\n",
       "      <th>Pred 0</th>\n",
       "      <th>Pred 1</th>\n",
       "    </tr>\n",
       "  </thead>\n",
       "  <tbody>\n",
       "    <tr>\n",
       "      <th>True 0</th>\n",
       "      <td>3688</td>\n",
       "      <td>1454</td>\n",
       "    </tr>\n",
       "    <tr>\n",
       "      <th>True 1</th>\n",
       "      <td>40</td>\n",
       "      <td>66</td>\n",
       "    </tr>\n",
       "  </tbody>\n",
       "</table>\n",
       "</div>"
      ],
      "text/plain": [
       "        Pred 0  Pred 1\n",
       "True 0    3688    1454\n",
       "True 1      40      66"
      ]
     },
     "execution_count": 69,
     "metadata": {},
     "output_type": "execute_result"
    }
   ],
   "source": [
    "y_pred = randomized_search_cbr.predict(X_valid)\n",
    "y_pred_proba = randomized_search_cbr.predict_proba(X_valid)[:, 1]\n",
    "\n",
    "print('Лучшая модель и её параметры:\\n\\n', randomized_search_cbr.best_estimator_)\n",
    "\n",
    "print('ROC-AUC  на тренировочной выборке:', randomized_search_cbr.best_score_)\n",
    "print('F1 на валидационной выборке:', f1_score(y_valid, y_pred))\n",
    "print('ROC-AUC на валидационной выборке:', roc_auc_score(y_valid, y_pred_proba))\n",
    "print('Precision на валидационной выборке:', precision_score(y_valid, y_pred))\n",
    "print('Recall на валидационной выборке:', recall_score(y_valid, y_pred))\n",
    "fit_predict_time(randomized_search_cbr.best_estimator_, X_valid, y_valid)\n",
    "cm = confusion_matrix(y_valid, y_pred)\n",
    "cm_df = pd.DataFrame(cm, index=['True 0', 'True 1'], columns=['Pred 0', 'Pred 1'])\n",
    "cm_df"
   ]
  },
  {
   "cell_type": "markdown",
   "metadata": {},
   "source": [
    "## Анализ моделей"
   ]
  },
  {
   "cell_type": "markdown",
   "metadata": {},
   "source": [
    "LogisticRegression(C=17, class_weight='balanced', penalty='l1', random_state=77, solver='liblinear'))])  \n",
    "Лучший скейлер: passthrough  \n",
    "ROC-AUC  на тренировочной выборке: 0.7152677277375907  \n",
    "ROC-AUC на валидационной выборке: 0.7113339644657757  \n",
    "F1 на валидационной выборке: 0.07339449541284403  \n",
    "Precision на валидационной выборке: 0.03924133420536298  \n",
    "Recall на валидационной выборке: 0.5660377358490566  \n",
    "Время обучения: 0.3012 секунд  \n",
    "Время предсказания: 0.0110 секунд\n",
    "\n",
    "Catboost    \n",
    "ROC-AUC  на тренировочной выборке: 0.7434852994230727  \n",
    "F1 на валидационной выборке: 0.08433734939759036  \n",
    "ROC-AUC на валидационной выборке: 0.7311907854663408  \n",
    "Precision на валидационной выборке: 0.04504504504504504  \n",
    "Recall на валидационной выборке: 0.660377358490566  \n",
    "Время обучения: 2.1084 секунд  \n",
    "Время предсказания: 0.0110 секунд  "
   ]
  },
  {
   "cell_type": "markdown",
   "metadata": {},
   "source": [
    "## Проверка модели на тестовой выборке"
   ]
  },
  {
   "cell_type": "code",
   "execution_count": 70,
   "metadata": {},
   "outputs": [
    {
     "name": "stdout",
     "output_type": "stream",
     "text": [
      "F1 на тестовой выборке: 0.07951807228915662\n",
      "ROC-AUC на тестовой выборке: 0.7190891878206117\n",
      "Precision на тестовой выборке: 0.04247104247104247\n",
      "Recall на тестовой выборке: 0.6226415094339622\n",
      "Время обучения: 3.1275 секунд\n",
      "Время предсказания: 0.0130 секунд\n"
     ]
    },
    {
     "data": {
      "text/html": [
       "<div>\n",
       "<style scoped>\n",
       "    .dataframe tbody tr th:only-of-type {\n",
       "        vertical-align: middle;\n",
       "    }\n",
       "\n",
       "    .dataframe tbody tr th {\n",
       "        vertical-align: top;\n",
       "    }\n",
       "\n",
       "    .dataframe thead th {\n",
       "        text-align: right;\n",
       "    }\n",
       "</style>\n",
       "<table border=\"1\" class=\"dataframe\">\n",
       "  <thead>\n",
       "    <tr style=\"text-align: right;\">\n",
       "      <th></th>\n",
       "      <th>Pred 0</th>\n",
       "      <th>Pred 1</th>\n",
       "    </tr>\n",
       "  </thead>\n",
       "  <tbody>\n",
       "    <tr>\n",
       "      <th>True 0</th>\n",
       "      <td>3654</td>\n",
       "      <td>1488</td>\n",
       "    </tr>\n",
       "    <tr>\n",
       "      <th>True 1</th>\n",
       "      <td>40</td>\n",
       "      <td>66</td>\n",
       "    </tr>\n",
       "  </tbody>\n",
       "</table>\n",
       "</div>"
      ],
      "text/plain": [
       "        Pred 0  Pred 1\n",
       "True 0    3654    1488\n",
       "True 1      40      66"
      ]
     },
     "execution_count": 70,
     "metadata": {},
     "output_type": "execute_result"
    }
   ],
   "source": [
    "best_model = randomized_search_cbr.best_estimator_\n",
    "y_pred = best_model.predict(X_test)\n",
    "y_pred_proba = best_model.predict_proba(X_test)[:, 1]\n",
    "\n",
    "\n",
    "print('F1 на тестовой выборке:', f1_score(y_test, y_pred))\n",
    "print('ROC-AUC на тестовой выборке:', roc_auc_score(y_test, y_pred_proba))\n",
    "\n",
    "print('Precision на тестовой выборке:', precision_score(y_test, y_pred))   \n",
    "print('Recall на тестовой выборке:', recall_score(y_test, y_pred))\n",
    "fit_predict_time(best_model, X_test, y_test)\n",
    "cm = confusion_matrix(y_test, y_pred)\n",
    "cm_df = pd.DataFrame(cm, index=['True 0', 'True 1'], columns=['Pred 0', 'Pred 1'])\n",
    "cm_df"
   ]
  },
  {
   "cell_type": "markdown",
   "metadata": {},
   "source": [
    "Попробуем сдвинуть порог предсказания , попробуем повысить Recall, так как для оптимизации процессов надо выделить пользователей, которые готовы совершить покупку в ближайшее время. Но при этом ухудшится Precision, но в нашем случае это не так важно, нам главное не упустить клиентов , которые точно планируют совершить покупку. поэтому снижаем Precision и увеличиваем Recall.\n",
    "Низкая метрика Precision (точность) означает, что из всех объектов, которые модель отнесла к положительному классу (предсказала как 1), лишь малая доля действительно принадлежит этому классу. Другими словами, много ложных срабатываний (False Positives). "
   ]
  },
  {
   "cell_type": "code",
   "execution_count": 71,
   "metadata": {},
   "outputs": [
    {
     "name": "stdout",
     "output_type": "stream",
     "text": [
      "Precision на тестовой выборке: 0.03218210361067504\n",
      "Recall на тестовой выборке: 0.7735849056603774\n",
      "F1 на тестовой выборке: 0.06179351921627732\n",
      "ROC-AUC на тестовой выборке: 0.7190891878206117\n"
     ]
    },
    {
     "data": {
      "text/html": [
       "<div>\n",
       "<style scoped>\n",
       "    .dataframe tbody tr th:only-of-type {\n",
       "        vertical-align: middle;\n",
       "    }\n",
       "\n",
       "    .dataframe tbody tr th {\n",
       "        vertical-align: top;\n",
       "    }\n",
       "\n",
       "    .dataframe thead th {\n",
       "        text-align: right;\n",
       "    }\n",
       "</style>\n",
       "<table border=\"1\" class=\"dataframe\">\n",
       "  <thead>\n",
       "    <tr style=\"text-align: right;\">\n",
       "      <th></th>\n",
       "      <th>Pred 0</th>\n",
       "      <th>Pred 1</th>\n",
       "    </tr>\n",
       "  </thead>\n",
       "  <tbody>\n",
       "    <tr>\n",
       "      <th>True 0</th>\n",
       "      <td>2676</td>\n",
       "      <td>2466</td>\n",
       "    </tr>\n",
       "    <tr>\n",
       "      <th>True 1</th>\n",
       "      <td>24</td>\n",
       "      <td>82</td>\n",
       "    </tr>\n",
       "  </tbody>\n",
       "</table>\n",
       "</div>"
      ],
      "text/plain": [
       "        Pred 0  Pred 1\n",
       "True 0    2676    2466\n",
       "True 1      24      82"
      ]
     },
     "execution_count": 71,
     "metadata": {},
     "output_type": "execute_result"
    }
   ],
   "source": [
    "threshold = 0.38\n",
    "y_pred_01 = (y_pred_proba >= threshold).astype(int)  \n",
    "\n",
    "cm = confusion_matrix(y_test, y_pred_01)\n",
    "cm_df = pd.DataFrame(cm, index=['True 0', 'True 1'], columns=['Pred 0', 'Pred 1'])\n",
    "print('Precision на тестовой выборке:', precision_score(y_test, y_pred_01))   \n",
    "print('Recall на тестовой выборке:', recall_score(y_test, y_pred_01))\n",
    "print('F1 на тестовой выборке:', f1_score(y_test, y_pred_01))\n",
    "print('ROC-AUC на тестовой выборке:', roc_auc_score(y_test, y_pred_proba))\n",
    "cm_df"
   ]
  },
  {
   "cell_type": "markdown",
   "metadata": {},
   "source": [
    "## Общий вывод "
   ]
  },
  {
   "cell_type": "markdown",
   "metadata": {},
   "source": [
    "Задачей данного проекта было создание модели которая сможет на основе данных  о покупках и рассылках клиентов за несколько лет сможет предсказать совершит ли клиент покупку еще раз. Данные модели смогут помочь маркетологам идентифицировать и простимулировать спрос покупателей, которые не планируют делать покупки с помощью промокодов и корректировки рассылки.\n",
    "\n",
    "В ходе выполнения проекта были загружены, обработаны и исследованы данные о покупках и рассылках за 2022-2024гг. Была проведена предобработка данных, удалены дубликаты, агрегированы и объеденины данные в один датасет, проведен исследовательский и корреляционый анализ данных.\n",
    "\n",
    "Были проверены все числовые и категориальные признаки, постороены гистраграммы и столбчатые диаграммы как по всем данным объединенного датасета, так и в разрезе покупательских планов клиентов.\n",
    "\n",
    "\n",
    "Для обучения использовалось несколько моделей с перебором параметров - DecisionTreeClassifier, KNeighborsClassifier, LogisticRegression, CatBoost.  Лучшей моделью признана:\n",
    "\n",
    "Модель , позволяющая спрогнозировать совершит покупатель покупку или нет: Catboost  \n",
    "Полученные метрики:  \n",
    "ROC-AUC  на тренировочной выборке: 0.7434852994230727  \n",
    "F1 на валидационной выборке: 0.08433734939759036  \n",
    "ROC-AUC на валидационной выборке: 0.7311907854663408  \n",
    "Precision на валидационной выборке: 0.04504504504504504  \n",
    "Recall на валидационной выборке: 0.660377358490566  \n",
    "Время обучения: 2.1084 секунд  \n",
    "Время предсказания: 0.0110 секунд    \n",
    "\n",
    "Было произведено прогнозирование на тестовой выборке и получены следующие метрики (с порогом 0,37):  \n",
    "Precision на тестовой выборке: 0.031526336024605923  \n",
    "Recall на тестовой выборке: 0.7735849056603774  \n",
    "F1 на тестовой выборке: 0.060583671961581084  \n",
    "ROC-AUC на тестовой выборке: 0.7242079654785232   \n",
    "\n",
    "Рекомендации по улучшению работы модель: необходимо уделить внимание предобработке данных, необходимо получить разъяснения по категориям товаров, чтобы иметь более ясное представление о том , что означает категория на каждом уровне. Модель имеет низкую метрику precision / recall и f1, что модель очень низкую точность.\n"
   ]
  },
  {
   "cell_type": "markdown",
   "metadata": {},
   "source": [
    "*Евгений, вопрос: подскажи, пожалуйста, нужно ли нам стараться поймать баланс, или нам необходимо выкрутить recall на максимум, снизив порог, и предсказать все 1 как 1, которых и так мало, чтобы не упустить прибыль от тех клиентов (тру класс 1), которые запланировали покупку. Либо нам нужно одновременно следить за метрикой precision и не предсказывать слишком много лишних 1, которые на самом-то деле 0 , чтобы  не тратить средства на привлечение этих клиентов (тру класс 0)?*"
   ]
  }
 ],
 "metadata": {
  "ExecuteTimeLog": [
   {
    "duration": 54,
    "start_time": "2025-03-10T03:33:32.986Z"
   },
   {
    "duration": 1747,
    "start_time": "2025-03-10T03:33:36.141Z"
   },
   {
    "duration": 906,
    "start_time": "2025-03-10T03:33:40.112Z"
   },
   {
    "duration": 3,
    "start_time": "2025-03-10T03:34:54.449Z"
   }
  ],
  "kernelspec": {
   "display_name": "Python 3 (ipykernel)",
   "language": "python",
   "name": "python3"
  },
  "language_info": {
   "codemirror_mode": {
    "name": "ipython",
    "version": 3
   },
   "file_extension": ".py",
   "mimetype": "text/x-python",
   "name": "python",
   "nbconvert_exporter": "python",
   "pygments_lexer": "ipython3",
   "version": "3.11.7"
  },
  "toc": {
   "base_numbering": 1,
   "nav_menu": {},
   "number_sections": true,
   "sideBar": true,
   "skip_h1_title": true,
   "title_cell": "Table of Contents",
   "title_sidebar": "Contents",
   "toc_cell": false,
   "toc_position": {},
   "toc_section_display": true,
   "toc_window_display": true
  },
  "widgets": {
   "application/vnd.jupyter.widget-state+json": {
    "state": {},
    "version_major": 2,
    "version_minor": 0
   }
  }
 },
 "nbformat": 4,
 "nbformat_minor": 4
}
